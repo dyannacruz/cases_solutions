{
  "nbformat": 4,
  "nbformat_minor": 0,
  "metadata": {
    "colab": {
      "provenance": []
    },
    "kernelspec": {
      "name": "python3",
      "display_name": "Python 3"
    },
    "language_info": {
      "name": "python"
    }
  },
  "cells": [
    {
      "cell_type": "markdown",
      "source": [
        "**CASE DS PARTE 1**\n",
        "\n",
        "Leia o arquivo CSV.\n",
        "- Remova todas as linhas que contêm valores NA/NULL ou ausentes.\n",
        "- Extraia a data usando expressões regulares (regex) da coluna “Date”, alocando as saídas em uma coluna chamada “data_formatada”. Respeite o formar dd/mm/aaaa.\n",
        "- Extraia a hora usando expressões regulares (regex) da coluna “Date”, alocando as saídas em uma coluna chamada “hora_formatada”. Respeite o formato hh:mm:ss.\n",
        "- Realize uma análise exploratória básica dos dados, fornecendo as principais informações das colunas presentes neste CSV.\n",
        "- Gere pelo menos um tipo de visualização de dados relevante para o conjunto de dados e o descreva.\n",
        "- Submeta seu script junto com quaisquer arquivos de dados utilizados, em um arquivo zipado.\n",
        "- Dica: Use R ou Python para facilitar a manipulação dos dados.\n",
        "\n",
        "https://gist.github.com/Miaomeow/59c2bfae1e907875afeef9e3330b0ce7"
      ],
      "metadata": {
        "id": "rqOU06skjRtJ"
      }
    },
    {
      "cell_type": "markdown",
      "source": [
        "###IMPORTANDO CONTEÚDO DO DRIVE"
      ],
      "metadata": {
        "id": "MydZxNZ9kSzr"
      }
    },
    {
      "cell_type": "code",
      "execution_count": 1,
      "metadata": {
        "colab": {
          "base_uri": "https://localhost:8080/"
        },
        "id": "zA5ogIESibGQ",
        "outputId": "02e44ca2-b046-48ed-a0d8-f78d53cb53fc"
      },
      "outputs": [
        {
          "output_type": "stream",
          "name": "stdout",
          "text": [
            "Mounted at /content/drive\n"
          ]
        }
      ],
      "source": [
        "from google.colab import drive\n",
        "drive.mount('/content/drive')"
      ]
    },
    {
      "cell_type": "markdown",
      "source": [
        "###IMPORTANDO AS BIBLIOTECAS NECESSÁRIAS"
      ],
      "metadata": {
        "id": "BlzBdcBvlI8j"
      }
    },
    {
      "cell_type": "code",
      "source": [
        "import pandas as pd\n",
        "import seaborn as srn\n",
        "import statistics as sts\n",
        "import matplotlib as plt\n",
        "import numpy as np\n",
        "import matplotlib.pyplot as plt"
      ],
      "metadata": {
        "id": "NJlRy3DblIT1"
      },
      "execution_count": 2,
      "outputs": []
    },
    {
      "cell_type": "markdown",
      "source": [
        "###TRAZENDO O ARQUIVO CSV"
      ],
      "metadata": {
        "id": "9blYMsF0lgC5"
      }
    },
    {
      "cell_type": "code",
      "source": [
        "df_original = pd.read_csv('/content/drive/MyDrive/CASE/air_quality.csv', sep=',')"
      ],
      "metadata": {
        "id": "EdNGKRp4ll9v"
      },
      "execution_count": 3,
      "outputs": []
    },
    {
      "cell_type": "code",
      "source": [
        "df_original.head(5)"
      ],
      "metadata": {
        "colab": {
          "base_uri": "https://localhost:8080/",
          "height": 206
        },
        "id": "Z7CsXA2SmZHy",
        "outputId": "c7c06885-7e38-4834-8947-fd878badd906"
      },
      "execution_count": 4,
      "outputs": [
        {
          "output_type": "execute_result",
          "data": {
            "text/plain": [
              "               Date  Central/Western  Eastern  Kwun Tong  Sham Shui Po  \\\n",
              "0  2014-01-01 01:00                6        7          9           8.0   \n",
              "1  2014-01-01 02:00                6        7          9           7.0   \n",
              "2  2014-01-01 03:00                6        6          8           7.0   \n",
              "3  2014-01-01 04:00                6        6          8           7.0   \n",
              "4  2014-01-01 05:00                5        5          7           6.0   \n",
              "\n",
              "   Kwai Chung  Tsuen Wan  Yuen Long  Tuen Mun  Tung Chung  Tai Po  Sha Tin  \\\n",
              "0         6.0        6.0        6.0         8         6.0     6.0        6   \n",
              "1         6.0        5.0        6.0         8         5.0     5.0        6   \n",
              "2         6.0        5.0        6.0         7         5.0     5.0        6   \n",
              "3         6.0        5.0        6.0         7         4.0     5.0        6   \n",
              "4         5.0        5.0        NaN         7         5.0     5.0        5   \n",
              "\n",
              "   Tap Mun  Causeway Bay  Central  Mong Kok  \n",
              "0      4.0            10        7       9.0  \n",
              "1      4.0            10        7       9.0  \n",
              "2      5.0             9        6       8.0  \n",
              "3      4.0             9        5       8.0  \n",
              "4      4.0             8        5       7.0  "
            ],
            "text/html": [
              "\n",
              "  <div id=\"df-e2a2b50c-b684-443d-a11d-c85adcdcde7d\" class=\"colab-df-container\">\n",
              "    <div>\n",
              "<style scoped>\n",
              "    .dataframe tbody tr th:only-of-type {\n",
              "        vertical-align: middle;\n",
              "    }\n",
              "\n",
              "    .dataframe tbody tr th {\n",
              "        vertical-align: top;\n",
              "    }\n",
              "\n",
              "    .dataframe thead th {\n",
              "        text-align: right;\n",
              "    }\n",
              "</style>\n",
              "<table border=\"1\" class=\"dataframe\">\n",
              "  <thead>\n",
              "    <tr style=\"text-align: right;\">\n",
              "      <th></th>\n",
              "      <th>Date</th>\n",
              "      <th>Central/Western</th>\n",
              "      <th>Eastern</th>\n",
              "      <th>Kwun Tong</th>\n",
              "      <th>Sham Shui Po</th>\n",
              "      <th>Kwai Chung</th>\n",
              "      <th>Tsuen Wan</th>\n",
              "      <th>Yuen Long</th>\n",
              "      <th>Tuen Mun</th>\n",
              "      <th>Tung Chung</th>\n",
              "      <th>Tai Po</th>\n",
              "      <th>Sha Tin</th>\n",
              "      <th>Tap Mun</th>\n",
              "      <th>Causeway Bay</th>\n",
              "      <th>Central</th>\n",
              "      <th>Mong Kok</th>\n",
              "    </tr>\n",
              "  </thead>\n",
              "  <tbody>\n",
              "    <tr>\n",
              "      <th>0</th>\n",
              "      <td>2014-01-01 01:00</td>\n",
              "      <td>6</td>\n",
              "      <td>7</td>\n",
              "      <td>9</td>\n",
              "      <td>8.0</td>\n",
              "      <td>6.0</td>\n",
              "      <td>6.0</td>\n",
              "      <td>6.0</td>\n",
              "      <td>8</td>\n",
              "      <td>6.0</td>\n",
              "      <td>6.0</td>\n",
              "      <td>6</td>\n",
              "      <td>4.0</td>\n",
              "      <td>10</td>\n",
              "      <td>7</td>\n",
              "      <td>9.0</td>\n",
              "    </tr>\n",
              "    <tr>\n",
              "      <th>1</th>\n",
              "      <td>2014-01-01 02:00</td>\n",
              "      <td>6</td>\n",
              "      <td>7</td>\n",
              "      <td>9</td>\n",
              "      <td>7.0</td>\n",
              "      <td>6.0</td>\n",
              "      <td>5.0</td>\n",
              "      <td>6.0</td>\n",
              "      <td>8</td>\n",
              "      <td>5.0</td>\n",
              "      <td>5.0</td>\n",
              "      <td>6</td>\n",
              "      <td>4.0</td>\n",
              "      <td>10</td>\n",
              "      <td>7</td>\n",
              "      <td>9.0</td>\n",
              "    </tr>\n",
              "    <tr>\n",
              "      <th>2</th>\n",
              "      <td>2014-01-01 03:00</td>\n",
              "      <td>6</td>\n",
              "      <td>6</td>\n",
              "      <td>8</td>\n",
              "      <td>7.0</td>\n",
              "      <td>6.0</td>\n",
              "      <td>5.0</td>\n",
              "      <td>6.0</td>\n",
              "      <td>7</td>\n",
              "      <td>5.0</td>\n",
              "      <td>5.0</td>\n",
              "      <td>6</td>\n",
              "      <td>5.0</td>\n",
              "      <td>9</td>\n",
              "      <td>6</td>\n",
              "      <td>8.0</td>\n",
              "    </tr>\n",
              "    <tr>\n",
              "      <th>3</th>\n",
              "      <td>2014-01-01 04:00</td>\n",
              "      <td>6</td>\n",
              "      <td>6</td>\n",
              "      <td>8</td>\n",
              "      <td>7.0</td>\n",
              "      <td>6.0</td>\n",
              "      <td>5.0</td>\n",
              "      <td>6.0</td>\n",
              "      <td>7</td>\n",
              "      <td>4.0</td>\n",
              "      <td>5.0</td>\n",
              "      <td>6</td>\n",
              "      <td>4.0</td>\n",
              "      <td>9</td>\n",
              "      <td>5</td>\n",
              "      <td>8.0</td>\n",
              "    </tr>\n",
              "    <tr>\n",
              "      <th>4</th>\n",
              "      <td>2014-01-01 05:00</td>\n",
              "      <td>5</td>\n",
              "      <td>5</td>\n",
              "      <td>7</td>\n",
              "      <td>6.0</td>\n",
              "      <td>5.0</td>\n",
              "      <td>5.0</td>\n",
              "      <td>NaN</td>\n",
              "      <td>7</td>\n",
              "      <td>5.0</td>\n",
              "      <td>5.0</td>\n",
              "      <td>5</td>\n",
              "      <td>4.0</td>\n",
              "      <td>8</td>\n",
              "      <td>5</td>\n",
              "      <td>7.0</td>\n",
              "    </tr>\n",
              "  </tbody>\n",
              "</table>\n",
              "</div>\n",
              "    <div class=\"colab-df-buttons\">\n",
              "\n",
              "  <div class=\"colab-df-container\">\n",
              "    <button class=\"colab-df-convert\" onclick=\"convertToInteractive('df-e2a2b50c-b684-443d-a11d-c85adcdcde7d')\"\n",
              "            title=\"Convert this dataframe to an interactive table.\"\n",
              "            style=\"display:none;\">\n",
              "\n",
              "  <svg xmlns=\"http://www.w3.org/2000/svg\" height=\"24px\" viewBox=\"0 -960 960 960\">\n",
              "    <path d=\"M120-120v-720h720v720H120Zm60-500h600v-160H180v160Zm220 220h160v-160H400v160Zm0 220h160v-160H400v160ZM180-400h160v-160H180v160Zm440 0h160v-160H620v160ZM180-180h160v-160H180v160Zm440 0h160v-160H620v160Z\"/>\n",
              "  </svg>\n",
              "    </button>\n",
              "\n",
              "  <style>\n",
              "    .colab-df-container {\n",
              "      display:flex;\n",
              "      gap: 12px;\n",
              "    }\n",
              "\n",
              "    .colab-df-convert {\n",
              "      background-color: #E8F0FE;\n",
              "      border: none;\n",
              "      border-radius: 50%;\n",
              "      cursor: pointer;\n",
              "      display: none;\n",
              "      fill: #1967D2;\n",
              "      height: 32px;\n",
              "      padding: 0 0 0 0;\n",
              "      width: 32px;\n",
              "    }\n",
              "\n",
              "    .colab-df-convert:hover {\n",
              "      background-color: #E2EBFA;\n",
              "      box-shadow: 0px 1px 2px rgba(60, 64, 67, 0.3), 0px 1px 3px 1px rgba(60, 64, 67, 0.15);\n",
              "      fill: #174EA6;\n",
              "    }\n",
              "\n",
              "    .colab-df-buttons div {\n",
              "      margin-bottom: 4px;\n",
              "    }\n",
              "\n",
              "    [theme=dark] .colab-df-convert {\n",
              "      background-color: #3B4455;\n",
              "      fill: #D2E3FC;\n",
              "    }\n",
              "\n",
              "    [theme=dark] .colab-df-convert:hover {\n",
              "      background-color: #434B5C;\n",
              "      box-shadow: 0px 1px 3px 1px rgba(0, 0, 0, 0.15);\n",
              "      filter: drop-shadow(0px 1px 2px rgba(0, 0, 0, 0.3));\n",
              "      fill: #FFFFFF;\n",
              "    }\n",
              "  </style>\n",
              "\n",
              "    <script>\n",
              "      const buttonEl =\n",
              "        document.querySelector('#df-e2a2b50c-b684-443d-a11d-c85adcdcde7d button.colab-df-convert');\n",
              "      buttonEl.style.display =\n",
              "        google.colab.kernel.accessAllowed ? 'block' : 'none';\n",
              "\n",
              "      async function convertToInteractive(key) {\n",
              "        const element = document.querySelector('#df-e2a2b50c-b684-443d-a11d-c85adcdcde7d');\n",
              "        const dataTable =\n",
              "          await google.colab.kernel.invokeFunction('convertToInteractive',\n",
              "                                                    [key], {});\n",
              "        if (!dataTable) return;\n",
              "\n",
              "        const docLinkHtml = 'Like what you see? Visit the ' +\n",
              "          '<a target=\"_blank\" href=https://colab.research.google.com/notebooks/data_table.ipynb>data table notebook</a>'\n",
              "          + ' to learn more about interactive tables.';\n",
              "        element.innerHTML = '';\n",
              "        dataTable['output_type'] = 'display_data';\n",
              "        await google.colab.output.renderOutput(dataTable, element);\n",
              "        const docLink = document.createElement('div');\n",
              "        docLink.innerHTML = docLinkHtml;\n",
              "        element.appendChild(docLink);\n",
              "      }\n",
              "    </script>\n",
              "  </div>\n",
              "\n",
              "\n",
              "<div id=\"df-2a5c3010-d27c-450d-9af9-794f31dfd9dd\">\n",
              "  <button class=\"colab-df-quickchart\" onclick=\"quickchart('df-2a5c3010-d27c-450d-9af9-794f31dfd9dd')\"\n",
              "            title=\"Suggest charts\"\n",
              "            style=\"display:none;\">\n",
              "\n",
              "<svg xmlns=\"http://www.w3.org/2000/svg\" height=\"24px\"viewBox=\"0 0 24 24\"\n",
              "     width=\"24px\">\n",
              "    <g>\n",
              "        <path d=\"M19 3H5c-1.1 0-2 .9-2 2v14c0 1.1.9 2 2 2h14c1.1 0 2-.9 2-2V5c0-1.1-.9-2-2-2zM9 17H7v-7h2v7zm4 0h-2V7h2v10zm4 0h-2v-4h2v4z\"/>\n",
              "    </g>\n",
              "</svg>\n",
              "  </button>\n",
              "\n",
              "<style>\n",
              "  .colab-df-quickchart {\n",
              "      --bg-color: #E8F0FE;\n",
              "      --fill-color: #1967D2;\n",
              "      --hover-bg-color: #E2EBFA;\n",
              "      --hover-fill-color: #174EA6;\n",
              "      --disabled-fill-color: #AAA;\n",
              "      --disabled-bg-color: #DDD;\n",
              "  }\n",
              "\n",
              "  [theme=dark] .colab-df-quickchart {\n",
              "      --bg-color: #3B4455;\n",
              "      --fill-color: #D2E3FC;\n",
              "      --hover-bg-color: #434B5C;\n",
              "      --hover-fill-color: #FFFFFF;\n",
              "      --disabled-bg-color: #3B4455;\n",
              "      --disabled-fill-color: #666;\n",
              "  }\n",
              "\n",
              "  .colab-df-quickchart {\n",
              "    background-color: var(--bg-color);\n",
              "    border: none;\n",
              "    border-radius: 50%;\n",
              "    cursor: pointer;\n",
              "    display: none;\n",
              "    fill: var(--fill-color);\n",
              "    height: 32px;\n",
              "    padding: 0;\n",
              "    width: 32px;\n",
              "  }\n",
              "\n",
              "  .colab-df-quickchart:hover {\n",
              "    background-color: var(--hover-bg-color);\n",
              "    box-shadow: 0 1px 2px rgba(60, 64, 67, 0.3), 0 1px 3px 1px rgba(60, 64, 67, 0.15);\n",
              "    fill: var(--button-hover-fill-color);\n",
              "  }\n",
              "\n",
              "  .colab-df-quickchart-complete:disabled,\n",
              "  .colab-df-quickchart-complete:disabled:hover {\n",
              "    background-color: var(--disabled-bg-color);\n",
              "    fill: var(--disabled-fill-color);\n",
              "    box-shadow: none;\n",
              "  }\n",
              "\n",
              "  .colab-df-spinner {\n",
              "    border: 2px solid var(--fill-color);\n",
              "    border-color: transparent;\n",
              "    border-bottom-color: var(--fill-color);\n",
              "    animation:\n",
              "      spin 1s steps(1) infinite;\n",
              "  }\n",
              "\n",
              "  @keyframes spin {\n",
              "    0% {\n",
              "      border-color: transparent;\n",
              "      border-bottom-color: var(--fill-color);\n",
              "      border-left-color: var(--fill-color);\n",
              "    }\n",
              "    20% {\n",
              "      border-color: transparent;\n",
              "      border-left-color: var(--fill-color);\n",
              "      border-top-color: var(--fill-color);\n",
              "    }\n",
              "    30% {\n",
              "      border-color: transparent;\n",
              "      border-left-color: var(--fill-color);\n",
              "      border-top-color: var(--fill-color);\n",
              "      border-right-color: var(--fill-color);\n",
              "    }\n",
              "    40% {\n",
              "      border-color: transparent;\n",
              "      border-right-color: var(--fill-color);\n",
              "      border-top-color: var(--fill-color);\n",
              "    }\n",
              "    60% {\n",
              "      border-color: transparent;\n",
              "      border-right-color: var(--fill-color);\n",
              "    }\n",
              "    80% {\n",
              "      border-color: transparent;\n",
              "      border-right-color: var(--fill-color);\n",
              "      border-bottom-color: var(--fill-color);\n",
              "    }\n",
              "    90% {\n",
              "      border-color: transparent;\n",
              "      border-bottom-color: var(--fill-color);\n",
              "    }\n",
              "  }\n",
              "</style>\n",
              "\n",
              "  <script>\n",
              "    async function quickchart(key) {\n",
              "      const quickchartButtonEl =\n",
              "        document.querySelector('#' + key + ' button');\n",
              "      quickchartButtonEl.disabled = true;  // To prevent multiple clicks.\n",
              "      quickchartButtonEl.classList.add('colab-df-spinner');\n",
              "      try {\n",
              "        const charts = await google.colab.kernel.invokeFunction(\n",
              "            'suggestCharts', [key], {});\n",
              "      } catch (error) {\n",
              "        console.error('Error during call to suggestCharts:', error);\n",
              "      }\n",
              "      quickchartButtonEl.classList.remove('colab-df-spinner');\n",
              "      quickchartButtonEl.classList.add('colab-df-quickchart-complete');\n",
              "    }\n",
              "    (() => {\n",
              "      let quickchartButtonEl =\n",
              "        document.querySelector('#df-2a5c3010-d27c-450d-9af9-794f31dfd9dd button');\n",
              "      quickchartButtonEl.style.display =\n",
              "        google.colab.kernel.accessAllowed ? 'block' : 'none';\n",
              "    })();\n",
              "  </script>\n",
              "</div>\n",
              "    </div>\n",
              "  </div>\n"
            ]
          },
          "metadata": {},
          "execution_count": 4
        }
      ]
    },
    {
      "cell_type": "code",
      "source": [
        "df_original.describe"
      ],
      "metadata": {
        "id": "A6H4CHKlnPND"
      },
      "execution_count": null,
      "outputs": []
    },
    {
      "cell_type": "markdown",
      "source": [
        "###REMOVENDO DADOS NA/NULL/AUSENTES"
      ],
      "metadata": {
        "id": "U9eBFswJoTE4"
      }
    },
    {
      "cell_type": "code",
      "source": [
        "# Contando valores nulos\n",
        "df_original.isnull().sum()"
      ],
      "metadata": {
        "id": "lpW0gMOl71e0",
        "colab": {
          "base_uri": "https://localhost:8080/"
        },
        "outputId": "c84fec29-19b4-4c4f-cf80-1112705ef596"
      },
      "execution_count": 7,
      "outputs": [
        {
          "output_type": "execute_result",
          "data": {
            "text/plain": [
              "Date                0\n",
              "Central/Western     0\n",
              "Eastern             0\n",
              "Kwun Tong           0\n",
              "Sham Shui Po        1\n",
              "Kwai Chung          8\n",
              "Tsuen Wan           9\n",
              "Yuen Long          12\n",
              "Tuen Mun            0\n",
              "Tung Chung         11\n",
              "Tai Po             17\n",
              "Sha Tin             0\n",
              "Tap Mun            12\n",
              "Causeway Bay        0\n",
              "Central             0\n",
              "Mong Kok            3\n",
              "dtype: int64"
            ]
          },
          "metadata": {},
          "execution_count": 7
        }
      ]
    },
    {
      "cell_type": "code",
      "source": [
        "df_tratado = df_original.dropna()"
      ],
      "metadata": {
        "id": "2aM4exHdogB_"
      },
      "execution_count": 8,
      "outputs": []
    },
    {
      "cell_type": "code",
      "source": [
        "df_tratado.isnull().sum()"
      ],
      "metadata": {
        "colab": {
          "base_uri": "https://localhost:8080/"
        },
        "id": "L9cuMMV0jVoT",
        "outputId": "80f3f9be-a5c3-41e8-d07e-b9da9d7c1979"
      },
      "execution_count": 9,
      "outputs": [
        {
          "output_type": "execute_result",
          "data": {
            "text/plain": [
              "Date               0\n",
              "Central/Western    0\n",
              "Eastern            0\n",
              "Kwun Tong          0\n",
              "Sham Shui Po       0\n",
              "Kwai Chung         0\n",
              "Tsuen Wan          0\n",
              "Yuen Long          0\n",
              "Tuen Mun           0\n",
              "Tung Chung         0\n",
              "Tai Po             0\n",
              "Sha Tin            0\n",
              "Tap Mun            0\n",
              "Causeway Bay       0\n",
              "Central            0\n",
              "Mong Kok           0\n",
              "dtype: int64"
            ]
          },
          "metadata": {},
          "execution_count": 9
        }
      ]
    },
    {
      "cell_type": "markdown",
      "source": [
        "###CONVERTENDO A DATA E CRIANDO DUAS NOVAS COLUNAS (DATA E HORA)"
      ],
      "metadata": {
        "id": "00XZSkqawFPg"
      }
    },
    {
      "cell_type": "code",
      "source": [
        "# Convertendo a coluna \"Date\" para datetime\n",
        "df_tratado.loc[:, 'Date'] = pd.to_datetime(df_tratado['Date'], errors='coerce')"
      ],
      "metadata": {
        "id": "9_jlJqZOpCZs"
      },
      "execution_count": null,
      "outputs": []
    },
    {
      "cell_type": "code",
      "source": [
        "# Criando novas colunas para data e hora\n",
        "df_tratado.loc[:, 'Data_formatada'] = df_tratado['Date'].dt.date\n",
        "df_tratado.loc[:, 'Hora_formatada'] = df_tratado['Date'].dt.time"
      ],
      "metadata": {
        "id": "C6ywIffFxNGK"
      },
      "execution_count": null,
      "outputs": []
    },
    {
      "cell_type": "code",
      "source": [
        "# Formatando a coluna \"Data\" como \"dia/mês/ano\"\n",
        "df_tratado.loc[:, 'Data'] = df_tratado['Date'].dt.strftime('%d/%m/%Y')\n",
        "# Formatando a coluna \"Hora\" como \"hh:mm:ss\"\n",
        "df_tratado.loc[:, 'Hora'] = df_tratado['Date'].dt.strftime('%H:%M:%S')"
      ],
      "metadata": {
        "id": "cOZ2cwNZ2nnq"
      },
      "execution_count": null,
      "outputs": []
    },
    {
      "cell_type": "code",
      "source": [
        "# Reordenando as colunas\n",
        "nova_ordem_colunas = ['Data', 'Hora', 'Central/Western', 'Eastern', 'Kwun Tong', 'Sham Shui Po', 'Kwai Chung', 'Tsuen Wan', 'Yuen Long', 'Tuen Mun', 'Tung Chung', 'Tai Po', 'Sha Tin', 'Tap Mun', 'Causeway Bay', 'Central', 'Mong Kok']\n",
        "df_tratado = df_tratado[nova_ordem_colunas]"
      ],
      "metadata": {
        "id": "esikeF0rxarF"
      },
      "execution_count": 13,
      "outputs": []
    },
    {
      "cell_type": "code",
      "source": [
        "# Exibindo o df\n",
        "df_tratado.head(5)"
      ],
      "metadata": {
        "colab": {
          "base_uri": "https://localhost:8080/",
          "height": 206
        },
        "id": "QsyuTKzXw9r_",
        "outputId": "a3e6e3d7-f826-4942-ddbf-935f44be749d"
      },
      "execution_count": 14,
      "outputs": [
        {
          "output_type": "execute_result",
          "data": {
            "text/plain": [
              "         Data      Hora  Central/Western  Eastern  Kwun Tong  Sham Shui Po  \\\n",
              "0  01/01/2014  01:00:00                6        7          9           8.0   \n",
              "1  01/01/2014  02:00:00                6        7          9           7.0   \n",
              "2  01/01/2014  03:00:00                6        6          8           7.0   \n",
              "3  01/01/2014  04:00:00                6        6          8           7.0   \n",
              "6  01/01/2014  07:00:00                5        5          6           6.0   \n",
              "\n",
              "   Kwai Chung  Tsuen Wan  Yuen Long  Tuen Mun  Tung Chung  Tai Po  Sha Tin  \\\n",
              "0         6.0        6.0        6.0         8         6.0     6.0        6   \n",
              "1         6.0        5.0        6.0         8         5.0     5.0        6   \n",
              "2         6.0        5.0        6.0         7         5.0     5.0        6   \n",
              "3         6.0        5.0        6.0         7         4.0     5.0        6   \n",
              "6         5.0        5.0        6.0         7         5.0     5.0        5   \n",
              "\n",
              "   Tap Mun  Causeway Bay  Central  Mong Kok  \n",
              "0      4.0            10        7       9.0  \n",
              "1      4.0            10        7       9.0  \n",
              "2      5.0             9        6       8.0  \n",
              "3      4.0             9        5       8.0  \n",
              "6      4.0             7        5       6.0  "
            ],
            "text/html": [
              "\n",
              "  <div id=\"df-fbfe2165-b9b4-483e-b7c1-e8474de1e2ff\" class=\"colab-df-container\">\n",
              "    <div>\n",
              "<style scoped>\n",
              "    .dataframe tbody tr th:only-of-type {\n",
              "        vertical-align: middle;\n",
              "    }\n",
              "\n",
              "    .dataframe tbody tr th {\n",
              "        vertical-align: top;\n",
              "    }\n",
              "\n",
              "    .dataframe thead th {\n",
              "        text-align: right;\n",
              "    }\n",
              "</style>\n",
              "<table border=\"1\" class=\"dataframe\">\n",
              "  <thead>\n",
              "    <tr style=\"text-align: right;\">\n",
              "      <th></th>\n",
              "      <th>Data</th>\n",
              "      <th>Hora</th>\n",
              "      <th>Central/Western</th>\n",
              "      <th>Eastern</th>\n",
              "      <th>Kwun Tong</th>\n",
              "      <th>Sham Shui Po</th>\n",
              "      <th>Kwai Chung</th>\n",
              "      <th>Tsuen Wan</th>\n",
              "      <th>Yuen Long</th>\n",
              "      <th>Tuen Mun</th>\n",
              "      <th>Tung Chung</th>\n",
              "      <th>Tai Po</th>\n",
              "      <th>Sha Tin</th>\n",
              "      <th>Tap Mun</th>\n",
              "      <th>Causeway Bay</th>\n",
              "      <th>Central</th>\n",
              "      <th>Mong Kok</th>\n",
              "    </tr>\n",
              "  </thead>\n",
              "  <tbody>\n",
              "    <tr>\n",
              "      <th>0</th>\n",
              "      <td>01/01/2014</td>\n",
              "      <td>01:00:00</td>\n",
              "      <td>6</td>\n",
              "      <td>7</td>\n",
              "      <td>9</td>\n",
              "      <td>8.0</td>\n",
              "      <td>6.0</td>\n",
              "      <td>6.0</td>\n",
              "      <td>6.0</td>\n",
              "      <td>8</td>\n",
              "      <td>6.0</td>\n",
              "      <td>6.0</td>\n",
              "      <td>6</td>\n",
              "      <td>4.0</td>\n",
              "      <td>10</td>\n",
              "      <td>7</td>\n",
              "      <td>9.0</td>\n",
              "    </tr>\n",
              "    <tr>\n",
              "      <th>1</th>\n",
              "      <td>01/01/2014</td>\n",
              "      <td>02:00:00</td>\n",
              "      <td>6</td>\n",
              "      <td>7</td>\n",
              "      <td>9</td>\n",
              "      <td>7.0</td>\n",
              "      <td>6.0</td>\n",
              "      <td>5.0</td>\n",
              "      <td>6.0</td>\n",
              "      <td>8</td>\n",
              "      <td>5.0</td>\n",
              "      <td>5.0</td>\n",
              "      <td>6</td>\n",
              "      <td>4.0</td>\n",
              "      <td>10</td>\n",
              "      <td>7</td>\n",
              "      <td>9.0</td>\n",
              "    </tr>\n",
              "    <tr>\n",
              "      <th>2</th>\n",
              "      <td>01/01/2014</td>\n",
              "      <td>03:00:00</td>\n",
              "      <td>6</td>\n",
              "      <td>6</td>\n",
              "      <td>8</td>\n",
              "      <td>7.0</td>\n",
              "      <td>6.0</td>\n",
              "      <td>5.0</td>\n",
              "      <td>6.0</td>\n",
              "      <td>7</td>\n",
              "      <td>5.0</td>\n",
              "      <td>5.0</td>\n",
              "      <td>6</td>\n",
              "      <td>5.0</td>\n",
              "      <td>9</td>\n",
              "      <td>6</td>\n",
              "      <td>8.0</td>\n",
              "    </tr>\n",
              "    <tr>\n",
              "      <th>3</th>\n",
              "      <td>01/01/2014</td>\n",
              "      <td>04:00:00</td>\n",
              "      <td>6</td>\n",
              "      <td>6</td>\n",
              "      <td>8</td>\n",
              "      <td>7.0</td>\n",
              "      <td>6.0</td>\n",
              "      <td>5.0</td>\n",
              "      <td>6.0</td>\n",
              "      <td>7</td>\n",
              "      <td>4.0</td>\n",
              "      <td>5.0</td>\n",
              "      <td>6</td>\n",
              "      <td>4.0</td>\n",
              "      <td>9</td>\n",
              "      <td>5</td>\n",
              "      <td>8.0</td>\n",
              "    </tr>\n",
              "    <tr>\n",
              "      <th>6</th>\n",
              "      <td>01/01/2014</td>\n",
              "      <td>07:00:00</td>\n",
              "      <td>5</td>\n",
              "      <td>5</td>\n",
              "      <td>6</td>\n",
              "      <td>6.0</td>\n",
              "      <td>5.0</td>\n",
              "      <td>5.0</td>\n",
              "      <td>6.0</td>\n",
              "      <td>7</td>\n",
              "      <td>5.0</td>\n",
              "      <td>5.0</td>\n",
              "      <td>5</td>\n",
              "      <td>4.0</td>\n",
              "      <td>7</td>\n",
              "      <td>5</td>\n",
              "      <td>6.0</td>\n",
              "    </tr>\n",
              "  </tbody>\n",
              "</table>\n",
              "</div>\n",
              "    <div class=\"colab-df-buttons\">\n",
              "\n",
              "  <div class=\"colab-df-container\">\n",
              "    <button class=\"colab-df-convert\" onclick=\"convertToInteractive('df-fbfe2165-b9b4-483e-b7c1-e8474de1e2ff')\"\n",
              "            title=\"Convert this dataframe to an interactive table.\"\n",
              "            style=\"display:none;\">\n",
              "\n",
              "  <svg xmlns=\"http://www.w3.org/2000/svg\" height=\"24px\" viewBox=\"0 -960 960 960\">\n",
              "    <path d=\"M120-120v-720h720v720H120Zm60-500h600v-160H180v160Zm220 220h160v-160H400v160Zm0 220h160v-160H400v160ZM180-400h160v-160H180v160Zm440 0h160v-160H620v160ZM180-180h160v-160H180v160Zm440 0h160v-160H620v160Z\"/>\n",
              "  </svg>\n",
              "    </button>\n",
              "\n",
              "  <style>\n",
              "    .colab-df-container {\n",
              "      display:flex;\n",
              "      gap: 12px;\n",
              "    }\n",
              "\n",
              "    .colab-df-convert {\n",
              "      background-color: #E8F0FE;\n",
              "      border: none;\n",
              "      border-radius: 50%;\n",
              "      cursor: pointer;\n",
              "      display: none;\n",
              "      fill: #1967D2;\n",
              "      height: 32px;\n",
              "      padding: 0 0 0 0;\n",
              "      width: 32px;\n",
              "    }\n",
              "\n",
              "    .colab-df-convert:hover {\n",
              "      background-color: #E2EBFA;\n",
              "      box-shadow: 0px 1px 2px rgba(60, 64, 67, 0.3), 0px 1px 3px 1px rgba(60, 64, 67, 0.15);\n",
              "      fill: #174EA6;\n",
              "    }\n",
              "\n",
              "    .colab-df-buttons div {\n",
              "      margin-bottom: 4px;\n",
              "    }\n",
              "\n",
              "    [theme=dark] .colab-df-convert {\n",
              "      background-color: #3B4455;\n",
              "      fill: #D2E3FC;\n",
              "    }\n",
              "\n",
              "    [theme=dark] .colab-df-convert:hover {\n",
              "      background-color: #434B5C;\n",
              "      box-shadow: 0px 1px 3px 1px rgba(0, 0, 0, 0.15);\n",
              "      filter: drop-shadow(0px 1px 2px rgba(0, 0, 0, 0.3));\n",
              "      fill: #FFFFFF;\n",
              "    }\n",
              "  </style>\n",
              "\n",
              "    <script>\n",
              "      const buttonEl =\n",
              "        document.querySelector('#df-fbfe2165-b9b4-483e-b7c1-e8474de1e2ff button.colab-df-convert');\n",
              "      buttonEl.style.display =\n",
              "        google.colab.kernel.accessAllowed ? 'block' : 'none';\n",
              "\n",
              "      async function convertToInteractive(key) {\n",
              "        const element = document.querySelector('#df-fbfe2165-b9b4-483e-b7c1-e8474de1e2ff');\n",
              "        const dataTable =\n",
              "          await google.colab.kernel.invokeFunction('convertToInteractive',\n",
              "                                                    [key], {});\n",
              "        if (!dataTable) return;\n",
              "\n",
              "        const docLinkHtml = 'Like what you see? Visit the ' +\n",
              "          '<a target=\"_blank\" href=https://colab.research.google.com/notebooks/data_table.ipynb>data table notebook</a>'\n",
              "          + ' to learn more about interactive tables.';\n",
              "        element.innerHTML = '';\n",
              "        dataTable['output_type'] = 'display_data';\n",
              "        await google.colab.output.renderOutput(dataTable, element);\n",
              "        const docLink = document.createElement('div');\n",
              "        docLink.innerHTML = docLinkHtml;\n",
              "        element.appendChild(docLink);\n",
              "      }\n",
              "    </script>\n",
              "  </div>\n",
              "\n",
              "\n",
              "<div id=\"df-36e6d5ab-d424-4f6b-9b42-86b3f7d48feb\">\n",
              "  <button class=\"colab-df-quickchart\" onclick=\"quickchart('df-36e6d5ab-d424-4f6b-9b42-86b3f7d48feb')\"\n",
              "            title=\"Suggest charts\"\n",
              "            style=\"display:none;\">\n",
              "\n",
              "<svg xmlns=\"http://www.w3.org/2000/svg\" height=\"24px\"viewBox=\"0 0 24 24\"\n",
              "     width=\"24px\">\n",
              "    <g>\n",
              "        <path d=\"M19 3H5c-1.1 0-2 .9-2 2v14c0 1.1.9 2 2 2h14c1.1 0 2-.9 2-2V5c0-1.1-.9-2-2-2zM9 17H7v-7h2v7zm4 0h-2V7h2v10zm4 0h-2v-4h2v4z\"/>\n",
              "    </g>\n",
              "</svg>\n",
              "  </button>\n",
              "\n",
              "<style>\n",
              "  .colab-df-quickchart {\n",
              "      --bg-color: #E8F0FE;\n",
              "      --fill-color: #1967D2;\n",
              "      --hover-bg-color: #E2EBFA;\n",
              "      --hover-fill-color: #174EA6;\n",
              "      --disabled-fill-color: #AAA;\n",
              "      --disabled-bg-color: #DDD;\n",
              "  }\n",
              "\n",
              "  [theme=dark] .colab-df-quickchart {\n",
              "      --bg-color: #3B4455;\n",
              "      --fill-color: #D2E3FC;\n",
              "      --hover-bg-color: #434B5C;\n",
              "      --hover-fill-color: #FFFFFF;\n",
              "      --disabled-bg-color: #3B4455;\n",
              "      --disabled-fill-color: #666;\n",
              "  }\n",
              "\n",
              "  .colab-df-quickchart {\n",
              "    background-color: var(--bg-color);\n",
              "    border: none;\n",
              "    border-radius: 50%;\n",
              "    cursor: pointer;\n",
              "    display: none;\n",
              "    fill: var(--fill-color);\n",
              "    height: 32px;\n",
              "    padding: 0;\n",
              "    width: 32px;\n",
              "  }\n",
              "\n",
              "  .colab-df-quickchart:hover {\n",
              "    background-color: var(--hover-bg-color);\n",
              "    box-shadow: 0 1px 2px rgba(60, 64, 67, 0.3), 0 1px 3px 1px rgba(60, 64, 67, 0.15);\n",
              "    fill: var(--button-hover-fill-color);\n",
              "  }\n",
              "\n",
              "  .colab-df-quickchart-complete:disabled,\n",
              "  .colab-df-quickchart-complete:disabled:hover {\n",
              "    background-color: var(--disabled-bg-color);\n",
              "    fill: var(--disabled-fill-color);\n",
              "    box-shadow: none;\n",
              "  }\n",
              "\n",
              "  .colab-df-spinner {\n",
              "    border: 2px solid var(--fill-color);\n",
              "    border-color: transparent;\n",
              "    border-bottom-color: var(--fill-color);\n",
              "    animation:\n",
              "      spin 1s steps(1) infinite;\n",
              "  }\n",
              "\n",
              "  @keyframes spin {\n",
              "    0% {\n",
              "      border-color: transparent;\n",
              "      border-bottom-color: var(--fill-color);\n",
              "      border-left-color: var(--fill-color);\n",
              "    }\n",
              "    20% {\n",
              "      border-color: transparent;\n",
              "      border-left-color: var(--fill-color);\n",
              "      border-top-color: var(--fill-color);\n",
              "    }\n",
              "    30% {\n",
              "      border-color: transparent;\n",
              "      border-left-color: var(--fill-color);\n",
              "      border-top-color: var(--fill-color);\n",
              "      border-right-color: var(--fill-color);\n",
              "    }\n",
              "    40% {\n",
              "      border-color: transparent;\n",
              "      border-right-color: var(--fill-color);\n",
              "      border-top-color: var(--fill-color);\n",
              "    }\n",
              "    60% {\n",
              "      border-color: transparent;\n",
              "      border-right-color: var(--fill-color);\n",
              "    }\n",
              "    80% {\n",
              "      border-color: transparent;\n",
              "      border-right-color: var(--fill-color);\n",
              "      border-bottom-color: var(--fill-color);\n",
              "    }\n",
              "    90% {\n",
              "      border-color: transparent;\n",
              "      border-bottom-color: var(--fill-color);\n",
              "    }\n",
              "  }\n",
              "</style>\n",
              "\n",
              "  <script>\n",
              "    async function quickchart(key) {\n",
              "      const quickchartButtonEl =\n",
              "        document.querySelector('#' + key + ' button');\n",
              "      quickchartButtonEl.disabled = true;  // To prevent multiple clicks.\n",
              "      quickchartButtonEl.classList.add('colab-df-spinner');\n",
              "      try {\n",
              "        const charts = await google.colab.kernel.invokeFunction(\n",
              "            'suggestCharts', [key], {});\n",
              "      } catch (error) {\n",
              "        console.error('Error during call to suggestCharts:', error);\n",
              "      }\n",
              "      quickchartButtonEl.classList.remove('colab-df-spinner');\n",
              "      quickchartButtonEl.classList.add('colab-df-quickchart-complete');\n",
              "    }\n",
              "    (() => {\n",
              "      let quickchartButtonEl =\n",
              "        document.querySelector('#df-36e6d5ab-d424-4f6b-9b42-86b3f7d48feb button');\n",
              "      quickchartButtonEl.style.display =\n",
              "        google.colab.kernel.accessAllowed ? 'block' : 'none';\n",
              "    })();\n",
              "  </script>\n",
              "</div>\n",
              "    </div>\n",
              "  </div>\n"
            ]
          },
          "metadata": {},
          "execution_count": 14
        }
      ]
    },
    {
      "cell_type": "markdown",
      "source": [
        "###ANÁLISE EXPLORATÓRIA DE DADOS"
      ],
      "metadata": {
        "id": "8berb8Tq3y6_"
      }
    },
    {
      "cell_type": "code",
      "source": [
        "# Descrevendo o df\n",
        "df_tratado.describe"
      ],
      "metadata": {
        "id": "_9zwYVrP35re",
        "colab": {
          "base_uri": "https://localhost:8080/"
        },
        "outputId": "bf6149e0-1854-494d-ce3d-08b5ce02e660"
      },
      "execution_count": 15,
      "outputs": [
        {
          "output_type": "execute_result",
          "data": {
            "text/plain": [
              "<bound method NDFrame.describe of            Data      Hora  Central/Western  Eastern  Kwun Tong  Sham Shui Po  \\\n",
              "0    01/01/2014  01:00:00                6        7          9           8.0   \n",
              "1    01/01/2014  02:00:00                6        7          9           7.0   \n",
              "2    01/01/2014  03:00:00                6        6          8           7.0   \n",
              "3    01/01/2014  04:00:00                6        6          8           7.0   \n",
              "6    01/01/2014  07:00:00                5        5          6           6.0   \n",
              "..          ...       ...              ...      ...        ...           ...   \n",
              "655  28/01/2014  08:00:00                4        4          4           4.0   \n",
              "656  28/01/2014  09:00:00                4        4          4           4.0   \n",
              "657  28/01/2014  10:00:00                4        4          4           4.0   \n",
              "658  28/01/2014  11:00:00                4        4          4           4.0   \n",
              "659  28/01/2014  12:00:00                4        4          5           5.0   \n",
              "\n",
              "     Kwai Chung  Tsuen Wan  Yuen Long  Tuen Mun  Tung Chung  Tai Po  Sha Tin  \\\n",
              "0           6.0        6.0        6.0         8         6.0     6.0        6   \n",
              "1           6.0        5.0        6.0         8         5.0     5.0        6   \n",
              "2           6.0        5.0        6.0         7         5.0     5.0        6   \n",
              "3           6.0        5.0        6.0         7         4.0     5.0        6   \n",
              "6           5.0        5.0        6.0         7         5.0     5.0        5   \n",
              "..          ...        ...        ...       ...         ...     ...      ...   \n",
              "655         4.0        4.0        4.0         4         4.0     4.0        4   \n",
              "656         4.0        4.0        4.0         4         4.0     4.0        4   \n",
              "657         4.0        5.0        4.0         4         4.0     4.0        4   \n",
              "658         5.0        5.0        5.0         5         5.0     4.0        4   \n",
              "659         5.0        5.0        5.0         5         5.0     4.0        4   \n",
              "\n",
              "     Tap Mun  Causeway Bay  Central  Mong Kok  \n",
              "0        4.0            10        7       9.0  \n",
              "1        4.0            10        7       9.0  \n",
              "2        5.0             9        6       8.0  \n",
              "3        4.0             9        5       8.0  \n",
              "6        4.0             7        5       6.0  \n",
              "..       ...           ...      ...       ...  \n",
              "655      3.0             4        4       4.0  \n",
              "656      4.0             5        5       4.0  \n",
              "657      4.0             5        5       4.0  \n",
              "658      4.0             5        5       5.0  \n",
              "659      5.0             5        5       5.0  \n",
              "\n",
              "[594 rows x 17 columns]>"
            ]
          },
          "metadata": {},
          "execution_count": 15
        }
      ]
    },
    {
      "cell_type": "code",
      "source": [
        "# Verificando o tipo dos dados\n",
        "df_tratado.dtypes"
      ],
      "metadata": {
        "id": "uro77IVg5DP1",
        "colab": {
          "base_uri": "https://localhost:8080/"
        },
        "outputId": "1a7ddb9b-ae55-47cb-b507-8e5f7da7bb8d"
      },
      "execution_count": 16,
      "outputs": [
        {
          "output_type": "execute_result",
          "data": {
            "text/plain": [
              "Data                object\n",
              "Hora                object\n",
              "Central/Western      int64\n",
              "Eastern              int64\n",
              "Kwun Tong            int64\n",
              "Sham Shui Po       float64\n",
              "Kwai Chung         float64\n",
              "Tsuen Wan          float64\n",
              "Yuen Long          float64\n",
              "Tuen Mun             int64\n",
              "Tung Chung         float64\n",
              "Tai Po             float64\n",
              "Sha Tin              int64\n",
              "Tap Mun            float64\n",
              "Causeway Bay         int64\n",
              "Central              int64\n",
              "Mong Kok           float64\n",
              "dtype: object"
            ]
          },
          "metadata": {},
          "execution_count": 16
        }
      ]
    },
    {
      "cell_type": "markdown",
      "source": [
        "## CONVERTENDO DADOS FLOAT PARA INT"
      ],
      "metadata": {
        "id": "OYlBFOne6QRL"
      }
    },
    {
      "cell_type": "code",
      "source": [
        "# Selecionando colunas a serem convertidas para INT\n",
        "colunas_float = ['Sham Shui Po', 'Kwai Chung', 'Tsuen Wan', 'Yuen Long', 'Tung Chung', 'Tai Po', 'Tap Mun', 'Mong Kok']\n",
        "df_tratado[colunas_float] = df_tratado[colunas_float].astype(int)"
      ],
      "metadata": {
        "id": "XLecddF95Mqc"
      },
      "execution_count": 17,
      "outputs": []
    },
    {
      "cell_type": "code",
      "source": [
        "# Verificando o tipo dos dados após conversão\n",
        "df_tratado.dtypes"
      ],
      "metadata": {
        "colab": {
          "base_uri": "https://localhost:8080/"
        },
        "id": "r-Hvynee5zun",
        "outputId": "02c80eac-030e-459b-911d-f924ab946c2e"
      },
      "execution_count": 18,
      "outputs": [
        {
          "output_type": "execute_result",
          "data": {
            "text/plain": [
              "Data               object\n",
              "Hora               object\n",
              "Central/Western     int64\n",
              "Eastern             int64\n",
              "Kwun Tong           int64\n",
              "Sham Shui Po        int64\n",
              "Kwai Chung          int64\n",
              "Tsuen Wan           int64\n",
              "Yuen Long           int64\n",
              "Tuen Mun            int64\n",
              "Tung Chung          int64\n",
              "Tai Po              int64\n",
              "Sha Tin             int64\n",
              "Tap Mun             int64\n",
              "Causeway Bay        int64\n",
              "Central             int64\n",
              "Mong Kok            int64\n",
              "dtype: object"
            ]
          },
          "metadata": {},
          "execution_count": 18
        }
      ]
    },
    {
      "cell_type": "code",
      "source": [
        "# Exibindo df\n",
        "df_tratado.head(5)"
      ],
      "metadata": {
        "colab": {
          "base_uri": "https://localhost:8080/",
          "height": 206
        },
        "id": "cah5V_nO6VTu",
        "outputId": "d15c9ac4-526b-44fc-d27a-da651b6b7e86"
      },
      "execution_count": 19,
      "outputs": [
        {
          "output_type": "execute_result",
          "data": {
            "text/plain": [
              "         Data      Hora  Central/Western  Eastern  Kwun Tong  Sham Shui Po  \\\n",
              "0  01/01/2014  01:00:00                6        7          9             8   \n",
              "1  01/01/2014  02:00:00                6        7          9             7   \n",
              "2  01/01/2014  03:00:00                6        6          8             7   \n",
              "3  01/01/2014  04:00:00                6        6          8             7   \n",
              "6  01/01/2014  07:00:00                5        5          6             6   \n",
              "\n",
              "   Kwai Chung  Tsuen Wan  Yuen Long  Tuen Mun  Tung Chung  Tai Po  Sha Tin  \\\n",
              "0           6          6          6         8           6       6        6   \n",
              "1           6          5          6         8           5       5        6   \n",
              "2           6          5          6         7           5       5        6   \n",
              "3           6          5          6         7           4       5        6   \n",
              "6           5          5          6         7           5       5        5   \n",
              "\n",
              "   Tap Mun  Causeway Bay  Central  Mong Kok  \n",
              "0        4            10        7         9  \n",
              "1        4            10        7         9  \n",
              "2        5             9        6         8  \n",
              "3        4             9        5         8  \n",
              "6        4             7        5         6  "
            ],
            "text/html": [
              "\n",
              "  <div id=\"df-152cd7bd-35d9-4351-b1e6-0bdb0182ee02\" class=\"colab-df-container\">\n",
              "    <div>\n",
              "<style scoped>\n",
              "    .dataframe tbody tr th:only-of-type {\n",
              "        vertical-align: middle;\n",
              "    }\n",
              "\n",
              "    .dataframe tbody tr th {\n",
              "        vertical-align: top;\n",
              "    }\n",
              "\n",
              "    .dataframe thead th {\n",
              "        text-align: right;\n",
              "    }\n",
              "</style>\n",
              "<table border=\"1\" class=\"dataframe\">\n",
              "  <thead>\n",
              "    <tr style=\"text-align: right;\">\n",
              "      <th></th>\n",
              "      <th>Data</th>\n",
              "      <th>Hora</th>\n",
              "      <th>Central/Western</th>\n",
              "      <th>Eastern</th>\n",
              "      <th>Kwun Tong</th>\n",
              "      <th>Sham Shui Po</th>\n",
              "      <th>Kwai Chung</th>\n",
              "      <th>Tsuen Wan</th>\n",
              "      <th>Yuen Long</th>\n",
              "      <th>Tuen Mun</th>\n",
              "      <th>Tung Chung</th>\n",
              "      <th>Tai Po</th>\n",
              "      <th>Sha Tin</th>\n",
              "      <th>Tap Mun</th>\n",
              "      <th>Causeway Bay</th>\n",
              "      <th>Central</th>\n",
              "      <th>Mong Kok</th>\n",
              "    </tr>\n",
              "  </thead>\n",
              "  <tbody>\n",
              "    <tr>\n",
              "      <th>0</th>\n",
              "      <td>01/01/2014</td>\n",
              "      <td>01:00:00</td>\n",
              "      <td>6</td>\n",
              "      <td>7</td>\n",
              "      <td>9</td>\n",
              "      <td>8</td>\n",
              "      <td>6</td>\n",
              "      <td>6</td>\n",
              "      <td>6</td>\n",
              "      <td>8</td>\n",
              "      <td>6</td>\n",
              "      <td>6</td>\n",
              "      <td>6</td>\n",
              "      <td>4</td>\n",
              "      <td>10</td>\n",
              "      <td>7</td>\n",
              "      <td>9</td>\n",
              "    </tr>\n",
              "    <tr>\n",
              "      <th>1</th>\n",
              "      <td>01/01/2014</td>\n",
              "      <td>02:00:00</td>\n",
              "      <td>6</td>\n",
              "      <td>7</td>\n",
              "      <td>9</td>\n",
              "      <td>7</td>\n",
              "      <td>6</td>\n",
              "      <td>5</td>\n",
              "      <td>6</td>\n",
              "      <td>8</td>\n",
              "      <td>5</td>\n",
              "      <td>5</td>\n",
              "      <td>6</td>\n",
              "      <td>4</td>\n",
              "      <td>10</td>\n",
              "      <td>7</td>\n",
              "      <td>9</td>\n",
              "    </tr>\n",
              "    <tr>\n",
              "      <th>2</th>\n",
              "      <td>01/01/2014</td>\n",
              "      <td>03:00:00</td>\n",
              "      <td>6</td>\n",
              "      <td>6</td>\n",
              "      <td>8</td>\n",
              "      <td>7</td>\n",
              "      <td>6</td>\n",
              "      <td>5</td>\n",
              "      <td>6</td>\n",
              "      <td>7</td>\n",
              "      <td>5</td>\n",
              "      <td>5</td>\n",
              "      <td>6</td>\n",
              "      <td>5</td>\n",
              "      <td>9</td>\n",
              "      <td>6</td>\n",
              "      <td>8</td>\n",
              "    </tr>\n",
              "    <tr>\n",
              "      <th>3</th>\n",
              "      <td>01/01/2014</td>\n",
              "      <td>04:00:00</td>\n",
              "      <td>6</td>\n",
              "      <td>6</td>\n",
              "      <td>8</td>\n",
              "      <td>7</td>\n",
              "      <td>6</td>\n",
              "      <td>5</td>\n",
              "      <td>6</td>\n",
              "      <td>7</td>\n",
              "      <td>4</td>\n",
              "      <td>5</td>\n",
              "      <td>6</td>\n",
              "      <td>4</td>\n",
              "      <td>9</td>\n",
              "      <td>5</td>\n",
              "      <td>8</td>\n",
              "    </tr>\n",
              "    <tr>\n",
              "      <th>6</th>\n",
              "      <td>01/01/2014</td>\n",
              "      <td>07:00:00</td>\n",
              "      <td>5</td>\n",
              "      <td>5</td>\n",
              "      <td>6</td>\n",
              "      <td>6</td>\n",
              "      <td>5</td>\n",
              "      <td>5</td>\n",
              "      <td>6</td>\n",
              "      <td>7</td>\n",
              "      <td>5</td>\n",
              "      <td>5</td>\n",
              "      <td>5</td>\n",
              "      <td>4</td>\n",
              "      <td>7</td>\n",
              "      <td>5</td>\n",
              "      <td>6</td>\n",
              "    </tr>\n",
              "  </tbody>\n",
              "</table>\n",
              "</div>\n",
              "    <div class=\"colab-df-buttons\">\n",
              "\n",
              "  <div class=\"colab-df-container\">\n",
              "    <button class=\"colab-df-convert\" onclick=\"convertToInteractive('df-152cd7bd-35d9-4351-b1e6-0bdb0182ee02')\"\n",
              "            title=\"Convert this dataframe to an interactive table.\"\n",
              "            style=\"display:none;\">\n",
              "\n",
              "  <svg xmlns=\"http://www.w3.org/2000/svg\" height=\"24px\" viewBox=\"0 -960 960 960\">\n",
              "    <path d=\"M120-120v-720h720v720H120Zm60-500h600v-160H180v160Zm220 220h160v-160H400v160Zm0 220h160v-160H400v160ZM180-400h160v-160H180v160Zm440 0h160v-160H620v160ZM180-180h160v-160H180v160Zm440 0h160v-160H620v160Z\"/>\n",
              "  </svg>\n",
              "    </button>\n",
              "\n",
              "  <style>\n",
              "    .colab-df-container {\n",
              "      display:flex;\n",
              "      gap: 12px;\n",
              "    }\n",
              "\n",
              "    .colab-df-convert {\n",
              "      background-color: #E8F0FE;\n",
              "      border: none;\n",
              "      border-radius: 50%;\n",
              "      cursor: pointer;\n",
              "      display: none;\n",
              "      fill: #1967D2;\n",
              "      height: 32px;\n",
              "      padding: 0 0 0 0;\n",
              "      width: 32px;\n",
              "    }\n",
              "\n",
              "    .colab-df-convert:hover {\n",
              "      background-color: #E2EBFA;\n",
              "      box-shadow: 0px 1px 2px rgba(60, 64, 67, 0.3), 0px 1px 3px 1px rgba(60, 64, 67, 0.15);\n",
              "      fill: #174EA6;\n",
              "    }\n",
              "\n",
              "    .colab-df-buttons div {\n",
              "      margin-bottom: 4px;\n",
              "    }\n",
              "\n",
              "    [theme=dark] .colab-df-convert {\n",
              "      background-color: #3B4455;\n",
              "      fill: #D2E3FC;\n",
              "    }\n",
              "\n",
              "    [theme=dark] .colab-df-convert:hover {\n",
              "      background-color: #434B5C;\n",
              "      box-shadow: 0px 1px 3px 1px rgba(0, 0, 0, 0.15);\n",
              "      filter: drop-shadow(0px 1px 2px rgba(0, 0, 0, 0.3));\n",
              "      fill: #FFFFFF;\n",
              "    }\n",
              "  </style>\n",
              "\n",
              "    <script>\n",
              "      const buttonEl =\n",
              "        document.querySelector('#df-152cd7bd-35d9-4351-b1e6-0bdb0182ee02 button.colab-df-convert');\n",
              "      buttonEl.style.display =\n",
              "        google.colab.kernel.accessAllowed ? 'block' : 'none';\n",
              "\n",
              "      async function convertToInteractive(key) {\n",
              "        const element = document.querySelector('#df-152cd7bd-35d9-4351-b1e6-0bdb0182ee02');\n",
              "        const dataTable =\n",
              "          await google.colab.kernel.invokeFunction('convertToInteractive',\n",
              "                                                    [key], {});\n",
              "        if (!dataTable) return;\n",
              "\n",
              "        const docLinkHtml = 'Like what you see? Visit the ' +\n",
              "          '<a target=\"_blank\" href=https://colab.research.google.com/notebooks/data_table.ipynb>data table notebook</a>'\n",
              "          + ' to learn more about interactive tables.';\n",
              "        element.innerHTML = '';\n",
              "        dataTable['output_type'] = 'display_data';\n",
              "        await google.colab.output.renderOutput(dataTable, element);\n",
              "        const docLink = document.createElement('div');\n",
              "        docLink.innerHTML = docLinkHtml;\n",
              "        element.appendChild(docLink);\n",
              "      }\n",
              "    </script>\n",
              "  </div>\n",
              "\n",
              "\n",
              "<div id=\"df-7972bc21-9b85-4c31-a4ca-1baa13c5f856\">\n",
              "  <button class=\"colab-df-quickchart\" onclick=\"quickchart('df-7972bc21-9b85-4c31-a4ca-1baa13c5f856')\"\n",
              "            title=\"Suggest charts\"\n",
              "            style=\"display:none;\">\n",
              "\n",
              "<svg xmlns=\"http://www.w3.org/2000/svg\" height=\"24px\"viewBox=\"0 0 24 24\"\n",
              "     width=\"24px\">\n",
              "    <g>\n",
              "        <path d=\"M19 3H5c-1.1 0-2 .9-2 2v14c0 1.1.9 2 2 2h14c1.1 0 2-.9 2-2V5c0-1.1-.9-2-2-2zM9 17H7v-7h2v7zm4 0h-2V7h2v10zm4 0h-2v-4h2v4z\"/>\n",
              "    </g>\n",
              "</svg>\n",
              "  </button>\n",
              "\n",
              "<style>\n",
              "  .colab-df-quickchart {\n",
              "      --bg-color: #E8F0FE;\n",
              "      --fill-color: #1967D2;\n",
              "      --hover-bg-color: #E2EBFA;\n",
              "      --hover-fill-color: #174EA6;\n",
              "      --disabled-fill-color: #AAA;\n",
              "      --disabled-bg-color: #DDD;\n",
              "  }\n",
              "\n",
              "  [theme=dark] .colab-df-quickchart {\n",
              "      --bg-color: #3B4455;\n",
              "      --fill-color: #D2E3FC;\n",
              "      --hover-bg-color: #434B5C;\n",
              "      --hover-fill-color: #FFFFFF;\n",
              "      --disabled-bg-color: #3B4455;\n",
              "      --disabled-fill-color: #666;\n",
              "  }\n",
              "\n",
              "  .colab-df-quickchart {\n",
              "    background-color: var(--bg-color);\n",
              "    border: none;\n",
              "    border-radius: 50%;\n",
              "    cursor: pointer;\n",
              "    display: none;\n",
              "    fill: var(--fill-color);\n",
              "    height: 32px;\n",
              "    padding: 0;\n",
              "    width: 32px;\n",
              "  }\n",
              "\n",
              "  .colab-df-quickchart:hover {\n",
              "    background-color: var(--hover-bg-color);\n",
              "    box-shadow: 0 1px 2px rgba(60, 64, 67, 0.3), 0 1px 3px 1px rgba(60, 64, 67, 0.15);\n",
              "    fill: var(--button-hover-fill-color);\n",
              "  }\n",
              "\n",
              "  .colab-df-quickchart-complete:disabled,\n",
              "  .colab-df-quickchart-complete:disabled:hover {\n",
              "    background-color: var(--disabled-bg-color);\n",
              "    fill: var(--disabled-fill-color);\n",
              "    box-shadow: none;\n",
              "  }\n",
              "\n",
              "  .colab-df-spinner {\n",
              "    border: 2px solid var(--fill-color);\n",
              "    border-color: transparent;\n",
              "    border-bottom-color: var(--fill-color);\n",
              "    animation:\n",
              "      spin 1s steps(1) infinite;\n",
              "  }\n",
              "\n",
              "  @keyframes spin {\n",
              "    0% {\n",
              "      border-color: transparent;\n",
              "      border-bottom-color: var(--fill-color);\n",
              "      border-left-color: var(--fill-color);\n",
              "    }\n",
              "    20% {\n",
              "      border-color: transparent;\n",
              "      border-left-color: var(--fill-color);\n",
              "      border-top-color: var(--fill-color);\n",
              "    }\n",
              "    30% {\n",
              "      border-color: transparent;\n",
              "      border-left-color: var(--fill-color);\n",
              "      border-top-color: var(--fill-color);\n",
              "      border-right-color: var(--fill-color);\n",
              "    }\n",
              "    40% {\n",
              "      border-color: transparent;\n",
              "      border-right-color: var(--fill-color);\n",
              "      border-top-color: var(--fill-color);\n",
              "    }\n",
              "    60% {\n",
              "      border-color: transparent;\n",
              "      border-right-color: var(--fill-color);\n",
              "    }\n",
              "    80% {\n",
              "      border-color: transparent;\n",
              "      border-right-color: var(--fill-color);\n",
              "      border-bottom-color: var(--fill-color);\n",
              "    }\n",
              "    90% {\n",
              "      border-color: transparent;\n",
              "      border-bottom-color: var(--fill-color);\n",
              "    }\n",
              "  }\n",
              "</style>\n",
              "\n",
              "  <script>\n",
              "    async function quickchart(key) {\n",
              "      const quickchartButtonEl =\n",
              "        document.querySelector('#' + key + ' button');\n",
              "      quickchartButtonEl.disabled = true;  // To prevent multiple clicks.\n",
              "      quickchartButtonEl.classList.add('colab-df-spinner');\n",
              "      try {\n",
              "        const charts = await google.colab.kernel.invokeFunction(\n",
              "            'suggestCharts', [key], {});\n",
              "      } catch (error) {\n",
              "        console.error('Error during call to suggestCharts:', error);\n",
              "      }\n",
              "      quickchartButtonEl.classList.remove('colab-df-spinner');\n",
              "      quickchartButtonEl.classList.add('colab-df-quickchart-complete');\n",
              "    }\n",
              "    (() => {\n",
              "      let quickchartButtonEl =\n",
              "        document.querySelector('#df-7972bc21-9b85-4c31-a4ca-1baa13c5f856 button');\n",
              "      quickchartButtonEl.style.display =\n",
              "        google.colab.kernel.accessAllowed ? 'block' : 'none';\n",
              "    })();\n",
              "  </script>\n",
              "</div>\n",
              "    </div>\n",
              "  </div>\n"
            ]
          },
          "metadata": {},
          "execution_count": 19
        }
      ]
    },
    {
      "cell_type": "code",
      "source": [
        "# Explorando dados numéricos\n",
        "df_tratado['Eastern'].describe()"
      ],
      "metadata": {
        "colab": {
          "base_uri": "https://localhost:8080/"
        },
        "id": "PACCGGTF6xZo",
        "outputId": "307bcdc4-c053-49e9-eee9-7f69c78b90fd"
      },
      "execution_count": 20,
      "outputs": [
        {
          "output_type": "execute_result",
          "data": {
            "text/plain": [
              "count    594.000000\n",
              "mean       4.653199\n",
              "std        1.292447\n",
              "min        2.000000\n",
              "25%        4.000000\n",
              "50%        5.000000\n",
              "75%        5.750000\n",
              "max        9.000000\n",
              "Name: Eastern, dtype: float64"
            ]
          },
          "metadata": {},
          "execution_count": 20
        }
      ]
    },
    {
      "cell_type": "code",
      "source": [
        "# Boxplot\n",
        "srn.boxplot(x=df_tratado['Eastern'], color='SteelBlue')\n",
        "plt.title('Boxplot - Eastern')\n",
        "plt.show()"
      ],
      "metadata": {
        "colab": {
          "base_uri": "https://localhost:8080/",
          "height": 472
        },
        "id": "ouE2-JAz6xQB",
        "outputId": "8b1b4125-a068-4c77-e381-f28dc9a9d861"
      },
      "execution_count": 21,
      "outputs": [
        {
          "output_type": "display_data",
          "data": {
            "text/plain": [
              "<Figure size 640x480 with 1 Axes>"
            ],
            "image/png": "[encoded data removed]"
          },
          "metadata": {}
        }
      ]
    },
    {
      "cell_type": "code",
      "source": [
        "agrupado = df_tratado.groupby(['Central/Western']).size()\n",
        "agrupado"
      ],
      "metadata": {
        "colab": {
          "base_uri": "https://localhost:8080/"
        },
        "id": "veMOx7ts7mwT",
        "outputId": "0c3b5f54-fbbe-4f13-e160-842b39a01a05"
      },
      "execution_count": 22,
      "outputs": [
        {
          "output_type": "execute_result",
          "data": {
            "text/plain": [
              "Central/Western\n",
              "2      2\n",
              "3     50\n",
              "4    179\n",
              "5    122\n",
              "6    138\n",
              "7     60\n",
              "8     37\n",
              "9      6\n",
              "dtype: int64"
            ]
          },
          "metadata": {},
          "execution_count": 22
        }
      ]
    },
    {
      "cell_type": "code",
      "source": [
        "# Calculando a média\n",
        "media = sts.mean(df_tratado['Central/Western'])\n",
        "media"
      ],
      "metadata": {
        "colab": {
          "base_uri": "https://localhost:8080/"
        },
        "id": "KqpM6rdG9UbG",
        "outputId": "358d002b-b4ac-487c-ce4f-3a93c3928c94"
      },
      "execution_count": 23,
      "outputs": [
        {
          "output_type": "execute_result",
          "data": {
            "text/plain": [
              "5.181818181818182"
            ]
          },
          "metadata": {},
          "execution_count": 23
        }
      ]
    },
    {
      "cell_type": "code",
      "source": [
        "# Calculando a mediana\n",
        "mediana = sts.median(df_tratado['Central/Western'])\n",
        "mediana"
      ],
      "metadata": {
        "colab": {
          "base_uri": "https://localhost:8080/"
        },
        "id": "38dIqE-08pEY",
        "outputId": "b3c874d9-5392-422d-d42c-1c09f71e0397"
      },
      "execution_count": 24,
      "outputs": [
        {
          "output_type": "execute_result",
          "data": {
            "text/plain": [
              "5.0"
            ]
          },
          "metadata": {},
          "execution_count": 24
        }
      ]
    },
    {
      "cell_type": "code",
      "source": [
        "# Calculando a moda\n",
        "moda = sts.mode(df_tratado['Central/Western'])\n",
        "moda"
      ],
      "metadata": {
        "colab": {
          "base_uri": "https://localhost:8080/"
        },
        "id": "sTJVZlSO9cth",
        "outputId": "32be87a5-585e-457e-e012-c1d6060aabdc"
      },
      "execution_count": 25,
      "outputs": [
        {
          "output_type": "execute_result",
          "data": {
            "text/plain": [
              "4"
            ]
          },
          "metadata": {},
          "execution_count": 25
        }
      ]
    },
    {
      "cell_type": "code",
      "source": [
        "# Calculando os quartis quantile([0.25, 0.5, 0.75])\n",
        "quartis = df_tratado['Central/Western']\n",
        "quartil1 = quartis.quantile(0.25)\n",
        "mediana = quartis.quantile(0.5)\n",
        "quartil3 = quartis.quantile(0.75)"
      ],
      "metadata": {
        "id": "3H8aAns49j1B"
      },
      "execution_count": 26,
      "outputs": []
    },
    {
      "cell_type": "code",
      "source": [
        "# Calculando a amplitude interquartil (IQR) usando a diferença entre o terceiro e primeiro quartis\n",
        "iqr = quartil3 - quartil1"
      ],
      "metadata": {
        "id": "-htbtMWHBlyf"
      },
      "execution_count": 27,
      "outputs": []
    },
    {
      "cell_type": "code",
      "source": [
        "# Exibindo os resultados\n",
        "print(f\"Média: {media}\")\n",
        "print(f\"Mediana: {mediana}\")\n",
        "print(f\"Moda: {moda}\")\n",
        "print(f\"Primeiro Quartil: {quartil1}\")\n",
        "print(f\"Mediana: {mediana}\")\n",
        "print(f\"Terceiro Quartil: {quartil3}\")\n",
        "print(f\"IQR: {iqr}\")"
      ],
      "metadata": {
        "colab": {
          "base_uri": "https://localhost:8080/"
        },
        "id": "FNe4Y3TnCs0u",
        "outputId": "09988e68-a482-4c59-a8e1-250c3d7a8bf0"
      },
      "execution_count": 28,
      "outputs": [
        {
          "output_type": "stream",
          "name": "stdout",
          "text": [
            "Média: 5.181818181818182\n",
            "Mediana: 5.0\n",
            "Moda: 4\n",
            "Primeiro Quartil: 4.0\n",
            "Mediana: 5.0\n",
            "Terceiro Quartil: 6.0\n",
            "IQR: 2.0\n"
          ]
        }
      ]
    },
    {
      "cell_type": "code",
      "source": [
        "# Histograma\n",
        "plt.hist(df_tratado['Central/Western'], bins='auto', edgecolor='black', color='SteelBlue')\n",
        "plt.title('Histograma - Central/Western')\n",
        "plt.xlabel('Valor')\n",
        "plt.ylabel('Frequência')\n",
        "plt.show()"
      ],
      "metadata": {
        "colab": {
          "base_uri": "https://localhost:8080/",
          "height": 472
        },
        "id": "BPBK0OFSBqSM",
        "outputId": "7735087c-9092-4c4d-d919-59216375b0e9"
      },
      "execution_count": 29,
      "outputs": [
        {
          "output_type": "display_data",
          "data": {
            "text/plain": [
              "<Figure size 640x480 with 1 Axes>"
            ],
            "image/png": "[encoded data removed]"
          },
          "metadata": {}
        }
      ]
    },
    {
      "cell_type": "code",
      "source": [
        "# Boxplot\n",
        "srn.boxplot(x=df_tratado['Central/Western'], color='SteelBlue')\n",
        "plt.title('Boxplot - Central/Western')\n",
        "plt.show()"
      ],
      "metadata": {
        "colab": {
          "base_uri": "https://localhost:8080/",
          "height": 472
        },
        "id": "qgViHcgDEV5C",
        "outputId": "a0b7309b-c47a-4dba-c7bb-e63210aac78b"
      },
      "execution_count": 30,
      "outputs": [
        {
          "output_type": "display_data",
          "data": {
            "text/plain": [
              "<Figure size 640x480 with 1 Axes>"
            ],
            "image/png": "[encoded data removed]"
          },
          "metadata": {}
        }
      ]
    },
    {
      "cell_type": "code",
      "source": [
        "# Selecionando as colunas numéricas\n",
        "df_colunas = ['Central/Western', 'Eastern', 'Kwun Tong', 'Sham Shui Po', 'Kwai Chung', 'Tsuen Wan', 'Yuen Long', 'Tuen Mun', 'Tung Chung', 'Tai Po', 'Sha Tin', 'Tap Mun', 'Causeway Bay', 'Central', 'Mong Kok']\n",
        "\n",
        "# Contando a ocorrência de cada valor nas colunas de interesse\n",
        "contagem_tipo = df_tratado[df_colunas].sum()\n",
        "\n",
        "# Calculando a proporção percentual\n",
        "percentual = contagem_tipo / contagem_tipo.sum() * 100\n",
        "\n",
        "# Ordenando os dados pela contagem decrescente\n",
        "contagem_tipo_ordenada = contagem_tipo.sort_values(ascending=False)\n",
        "\n",
        "# Plotando o gráfico de barras horizontais\n",
        "ax = contagem_tipo_ordenada.plot.barh(color='SteelBlue')\n",
        "\n",
        "# Adicionando os valores à direita das barras\n",
        "for i, (count, percent) in enumerate(zip(contagem_tipo_ordenada, percentual)):\n",
        "    ax.text(count + 100, i, f\"{percent:.2f}%\", ha='left', va='center', color='black')\n",
        "\n",
        "# Adicionando rótulos e título\n",
        "plt.xlabel('Porcentagem')\n",
        "plt.ylabel('Regiões')\n",
        "plt.title('Porcentagem por Região')\n",
        "\n",
        "# Exibindo o gráfico\n",
        "plt.show()\n"
      ],
      "metadata": {
        "colab": {
          "base_uri": "https://localhost:8080/",
          "height": 472
        },
        "id": "Q-PDz_iKFYao",
        "outputId": "58248882-4e41-4e65-f7e9-1dfa2e7a4e83"
      },
      "execution_count": 31,
      "outputs": [
        {
          "output_type": "display_data",
          "data": {
            "text/plain": [
              "<Figure size 640x480 with 1 Axes>"
            ],
            "image/png": "[encoded data removed]"
          },
          "metadata": {}
        }
      ]
    }
  ]
}