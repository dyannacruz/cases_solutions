{
  "nbformat": 4,
  "nbformat_minor": 0,
  "metadata": {
    "colab": {
      "provenance": []
    },
    "kernelspec": {
      "name": "python3",
      "display_name": "Python 3"
    },
    "language_info": {
      "name": "python"
    }
  },
  "cells": [
    {
      "cell_type": "markdown",
      "source": [
        "**PARTE 2 DO CASE DE DS**\n",
        "\n",
        "Agora, utilize a API “https://brasilapi.com.br/”, escolha 2 cidades fornecidas pelo endpoint “CPTEC” em “Listar localidades” e forneça a previsão meteorológica para ambas as cidades usando o endpoint “Previsão meteorológica para uma cidade”. Aloque os dados em um dataframe."
      ],
      "metadata": {
        "id": "gvm-nfACG2We"
      }
    },
    {
      "cell_type": "markdown",
      "source": [
        "Listar localidades\n",
        "Retorna listagem com todas as cidades junto a seus respectivos códigos presentes nos serviços da CPTEC. O Código destas cidades será utilizado para os serviços de meteorologia e a ondas (previsão oceânica) fornecido pelo centro. Leve em consideração que o WebService do CPTEC as vezes é instável, então se não encontrar uma determinada cidade na listagem completa, tente buscando por parte de seu nome no endpoint de busca."
      ],
      "metadata": {
        "id": "4ez4chMoIWtg"
      }
    },
    {
      "cell_type": "markdown",
      "source": [
        "###IMPORTRANDO BIBLIOTECAS"
      ],
      "metadata": {
        "id": "e3dsIHABI1dY"
      }
    },
    {
      "cell_type": "code",
      "source": [
        "import requests\n",
        "import pandas as pd"
      ],
      "metadata": {
        "id": "yQaajznlI0kc"
      },
      "execution_count": 32,
      "outputs": []
    },
    {
      "cell_type": "code",
      "source": [
        "import pandas as pd\n",
        "import seaborn as srn\n",
        "import statistics as sts\n",
        "import matplotlib as plt\n",
        "import numpy as np\n",
        "import matplotlib.pyplot as plt"
      ],
      "metadata": {
        "id": "TYC9BhSEauot"
      },
      "execution_count": 46,
      "outputs": []
    },
    {
      "cell_type": "markdown",
      "source": [
        "###MONTANDO O DRIVE CASO QUEIRA SALVAR ALGUM DF"
      ],
      "metadata": {
        "id": "36dqkPW_VDG4"
      }
    },
    {
      "cell_type": "code",
      "source": [
        "from google.colab import drive\n",
        "drive.mount('/content/drive')"
      ],
      "metadata": {
        "id": "kDr7mAu0PZU1"
      },
      "execution_count": null,
      "outputs": []
    },
    {
      "cell_type": "markdown",
      "source": [
        "###CRIANDO UMA FUNÇÃO QUE BUSCA DADOS ATRAVES DO ENDPOINT"
      ],
      "metadata": {
        "id": "k1XcWGFjVMbh"
      }
    },
    {
      "cell_type": "code",
      "source": [
        "# Função para obter informações sobre a cidade a partir do endpoint\n",
        "def obter_informacoes_cidade(nome_cidade):\n",
        "    url = f'https://brasilapi.com.br/api/cptec/v1/cidade/{nome_cidade}' # requisição para dados das cidades\n",
        "    resposta = requests.get(url)\n",
        "    dados_cidade = resposta.json()\n",
        "    return dados_cidade"
      ],
      "metadata": {
        "id": "RV8Z2yqoLAHK"
      },
      "execution_count": 3,
      "outputs": []
    },
    {
      "cell_type": "markdown",
      "source": [
        "###DEFININDO AS CIDADES A SEREM BUSCADAS"
      ],
      "metadata": {
        "id": "U4aFIxekVc32"
      }
    },
    {
      "cell_type": "code",
      "source": [
        "# Lista de nomes de cidades a buscar\n",
        "nomes_cidades = ['Miracatu', 'Eldorado']"
      ],
      "metadata": {
        "id": "FqFe5ndLLACQ"
      },
      "execution_count": 62,
      "outputs": []
    },
    {
      "cell_type": "markdown",
      "source": [
        "###CRIANDO UMA LISTA QUE CHAMA A FUNÇÃO obter_informacoes_cidade"
      ],
      "metadata": {
        "id": "wApOwVR7Vi6f"
      }
    },
    {
      "cell_type": "code",
      "source": [
        "# Obtendo as informações sobre as cidades\n",
        "informacoes_cidades = []\n",
        "\n",
        "for nome_cidade in nomes_cidades: # Inicia um loop for que percorre cada elemento na lista nomes_cidades. Em cada iteração do loop, nome_cidade assume o valor de um elemento da lista.\n",
        "    dados_cidade = obter_informacoes_cidade(nome_cidade)\n",
        "    informacoes_cidades.append(dados_cidade)"
      ],
      "metadata": {
        "id": "LVlpQWOULS4i"
      },
      "execution_count": 69,
      "outputs": []
    },
    {
      "cell_type": "markdown",
      "source": [
        "###CRIANDO E EXIBINDO UM DF PARA OS DADOS DAS CIDADES"
      ],
      "metadata": {
        "id": "K6voKfQlWMv9"
      }
    },
    {
      "cell_type": "code",
      "source": [
        "# Criando um DataFrame com as informações\n",
        "df_cidades = pd.DataFrame(informacoes_cidades)"
      ],
      "metadata": {
        "id": "IsI3rRv3LUa9"
      },
      "execution_count": 70,
      "outputs": []
    },
    {
      "cell_type": "code",
      "source": [
        "# Exibindo o DataFrame\n",
        "print(df_cidades)"
      ],
      "metadata": {
        "colab": {
          "base_uri": "https://localhost:8080/"
        },
        "id": "asX35AAPMWFT",
        "outputId": "47f896de-47e8-4601-a09e-6bfc579f7a8e"
      },
      "execution_count": 71,
      "outputs": [
        {
          "output_type": "stream",
          "name": "stdout",
          "text": [
            "                                                  0  \\\n",
            "0  {'nome': 'Miracatu', 'id': 3270, 'estado': 'SP'}   \n",
            "1  {'nome': 'Eldorado', 'id': 1862, 'estado': 'MS'}   \n",
            "\n",
            "                                                  1  \\\n",
            "0                                              None   \n",
            "1  {'nome': 'Eldorado', 'id': 1863, 'estado': 'SP'}   \n",
            "\n",
            "                                                   2  \\\n",
            "0                                               None   \n",
            "1  {'nome': 'Eldorado do Sul', 'id': 1864, 'estad...   \n",
            "\n",
            "                                                   3  \n",
            "0                                               None  \n",
            "1  {'nome': 'Eldorado dos Carajás', 'id': 1865, '...  \n"
          ]
        }
      ]
    },
    {
      "cell_type": "markdown",
      "source": [
        "###CRIANDO UMA FUNÇÃO PARA OBTER INFOS METEOROLÓGICAS DAS CIDADES"
      ],
      "metadata": {
        "id": "3E1JXaOsWVoT"
      }
    },
    {
      "cell_type": "code",
      "source": [
        "# Função para obter a previsão meteorológica para uma cidade a partir do endpoint\n",
        "def obter_previsao_meteorologica(city_code):\n",
        "    url = f'https://brasilapi.com.br/api/cptec/v1/clima/previsao/{city_code}' # requisição para dados meteorologicos\n",
        "    resposta = requests.get(url)\n",
        "    dados_previsao = resposta.json()\n",
        "    return dados_previsao"
      ],
      "metadata": {
        "id": "H1xMesG8NMqv"
      },
      "execution_count": 65,
      "outputs": []
    },
    {
      "cell_type": "markdown",
      "source": [
        "###OBTENDO A PREVISÃO DE ACORDO COM O ID DA CIDADE"
      ],
      "metadata": {
        "id": "wA6JT0DBd0Cz"
      }
    },
    {
      "cell_type": "code",
      "source": [
        "id1 = obter_previsao_meteorologica(3270)\n",
        "id2 = obter_previsao_meteorologica(1863)"
      ],
      "metadata": {
        "id": "yAQMo3teWuoL"
      },
      "execution_count": 72,
      "outputs": []
    },
    {
      "cell_type": "code",
      "source": [
        "# Exibindo os dados da previsão meteorológica para ambas as cidades\n",
        "print(id1)\n",
        "print(id2)"
      ],
      "metadata": {
        "colab": {
          "base_uri": "https://localhost:8080/"
        },
        "id": "A-FtW0YaX4QA",
        "outputId": "c9d0b31a-ae90-4edb-cb8c-438890a72bf4"
      },
      "execution_count": 73,
      "outputs": [
        {
          "output_type": "stream",
          "name": "stdout",
          "text": [
            "{'cidade': 'Miracatu', 'estado': 'SP', 'atualizado_em': '2023-12-08', 'clima': [{'data': '2023-12-08', 'condicao': 'c', 'condicao_desc': 'Chuva', 'min': 23, 'max': 28, 'indice_uv': 13}]}\n",
            "{'cidade': 'Eldorado', 'estado': 'SP', 'atualizado_em': '2023-12-08', 'clima': [{'data': '2023-12-08', 'condicao': 'pn', 'condicao_desc': 'Parcialmente Nublado', 'min': 23, 'max': 28, 'indice_uv': 13}]}\n"
          ]
        }
      ]
    },
    {
      "cell_type": "markdown",
      "source": [
        "###CRIANDO UM DF DE ACORDO COM OS DADOS DAS CIDADES E SALVANDO EM CSV"
      ],
      "metadata": {
        "id": "owDk4GHAeCeG"
      }
    },
    {
      "cell_type": "code",
      "source": [
        "# Função para converter dados em DF\n",
        "def converter_para_dataframe(dados_cidade):\n",
        "    df = pd.json_normalize(dados_cidade, 'clima', ['cidade', 'estado', 'atualizado_em'])\n",
        "    return df"
      ],
      "metadata": {
        "id": "4yC9PwfKZLY0"
      },
      "execution_count": 85,
      "outputs": []
    },
    {
      "cell_type": "code",
      "source": [
        "# Convertendo dados para DF\n",
        "df_id1 = converter_para_dataframe(id1)\n",
        "df_id2 = converter_para_dataframe(id2)"
      ],
      "metadata": {
        "id": "SsxpESHInD-s"
      },
      "execution_count": 86,
      "outputs": []
    },
    {
      "cell_type": "code",
      "source": [
        "# Concatenando DFs\n",
        "df_final = pd.concat([df_id1, df_id2], ignore_index=True)"
      ],
      "metadata": {
        "id": "BFL1CtO9Zb15"
      },
      "execution_count": 87,
      "outputs": []
    },
    {
      "cell_type": "code",
      "source": [
        "# Salvando o DF como CSV\n",
        "df_final.to_csv('dados.csv', index=False)"
      ],
      "metadata": {
        "id": "icIoMxtRZiuq"
      },
      "execution_count": 88,
      "outputs": []
    },
    {
      "cell_type": "code",
      "source": [
        "# Exibindo os dados\n",
        "df_tratado = (pd.read_csv('dados.csv'))\n",
        "df_tratado"
      ],
      "metadata": {
        "colab": {
          "base_uri": "https://localhost:8080/",
          "height": 112
        },
        "id": "gB1abgQ3aRmm",
        "outputId": "8fbb2225-e835-469c-9a5f-d80e046f2b44"
      },
      "execution_count": 89,
      "outputs": [
        {
          "output_type": "execute_result",
          "data": {
            "text/plain": [
              "         data condicao         condicao_desc  min  max  indice_uv    cidade  \\\n",
              "0  2023-12-08        c                 Chuva   23   28         13  Miracatu   \n",
              "1  2023-12-08       pn  Parcialmente Nublado   23   28         13  Eldorado   \n",
              "\n",
              "  estado atualizado_em  \n",
              "0     SP    2023-12-08  \n",
              "1     SP    2023-12-08  "
            ],
            "text/html": [
              "\n",
              "  <div id=\"df-c2eebbf9-3bdb-40d5-a14c-37576b610547\" class=\"colab-df-container\">\n",
              "    <div>\n",
              "<style scoped>\n",
              "    .dataframe tbody tr th:only-of-type {\n",
              "        vertical-align: middle;\n",
              "    }\n",
              "\n",
              "    .dataframe tbody tr th {\n",
              "        vertical-align: top;\n",
              "    }\n",
              "\n",
              "    .dataframe thead th {\n",
              "        text-align: right;\n",
              "    }\n",
              "</style>\n",
              "<table border=\"1\" class=\"dataframe\">\n",
              "  <thead>\n",
              "    <tr style=\"text-align: right;\">\n",
              "      <th></th>\n",
              "      <th>data</th>\n",
              "      <th>condicao</th>\n",
              "      <th>condicao_desc</th>\n",
              "      <th>min</th>\n",
              "      <th>max</th>\n",
              "      <th>indice_uv</th>\n",
              "      <th>cidade</th>\n",
              "      <th>estado</th>\n",
              "      <th>atualizado_em</th>\n",
              "    </tr>\n",
              "  </thead>\n",
              "  <tbody>\n",
              "    <tr>\n",
              "      <th>0</th>\n",
              "      <td>2023-12-08</td>\n",
              "      <td>c</td>\n",
              "      <td>Chuva</td>\n",
              "      <td>23</td>\n",
              "      <td>28</td>\n",
              "      <td>13</td>\n",
              "      <td>Miracatu</td>\n",
              "      <td>SP</td>\n",
              "      <td>2023-12-08</td>\n",
              "    </tr>\n",
              "    <tr>\n",
              "      <th>1</th>\n",
              "      <td>2023-12-08</td>\n",
              "      <td>pn</td>\n",
              "      <td>Parcialmente Nublado</td>\n",
              "      <td>23</td>\n",
              "      <td>28</td>\n",
              "      <td>13</td>\n",
              "      <td>Eldorado</td>\n",
              "      <td>SP</td>\n",
              "      <td>2023-12-08</td>\n",
              "    </tr>\n",
              "  </tbody>\n",
              "</table>\n",
              "</div>\n",
              "    <div class=\"colab-df-buttons\">\n",
              "\n",
              "  <div class=\"colab-df-container\">\n",
              "    <button class=\"colab-df-convert\" onclick=\"convertToInteractive('df-c2eebbf9-3bdb-40d5-a14c-37576b610547')\"\n",
              "            title=\"Convert this dataframe to an interactive table.\"\n",
              "            style=\"display:none;\">\n",
              "\n",
              "  <svg xmlns=\"http://www.w3.org/2000/svg\" height=\"24px\" viewBox=\"0 -960 960 960\">\n",
              "    <path d=\"M120-120v-720h720v720H120Zm60-500h600v-160H180v160Zm220 220h160v-160H400v160Zm0 220h160v-160H400v160ZM180-400h160v-160H180v160Zm440 0h160v-160H620v160ZM180-180h160v-160H180v160Zm440 0h160v-160H620v160Z\"/>\n",
              "  </svg>\n",
              "    </button>\n",
              "\n",
              "  <style>\n",
              "    .colab-df-container {\n",
              "      display:flex;\n",
              "      gap: 12px;\n",
              "    }\n",
              "\n",
              "    .colab-df-convert {\n",
              "      background-color: #E8F0FE;\n",
              "      border: none;\n",
              "      border-radius: 50%;\n",
              "      cursor: pointer;\n",
              "      display: none;\n",
              "      fill: #1967D2;\n",
              "      height: 32px;\n",
              "      padding: 0 0 0 0;\n",
              "      width: 32px;\n",
              "    }\n",
              "\n",
              "    .colab-df-convert:hover {\n",
              "      background-color: #E2EBFA;\n",
              "      box-shadow: 0px 1px 2px rgba(60, 64, 67, 0.3), 0px 1px 3px 1px rgba(60, 64, 67, 0.15);\n",
              "      fill: #174EA6;\n",
              "    }\n",
              "\n",
              "    .colab-df-buttons div {\n",
              "      margin-bottom: 4px;\n",
              "    }\n",
              "\n",
              "    [theme=dark] .colab-df-convert {\n",
              "      background-color: #3B4455;\n",
              "      fill: #D2E3FC;\n",
              "    }\n",
              "\n",
              "    [theme=dark] .colab-df-convert:hover {\n",
              "      background-color: #434B5C;\n",
              "      box-shadow: 0px 1px 3px 1px rgba(0, 0, 0, 0.15);\n",
              "      filter: drop-shadow(0px 1px 2px rgba(0, 0, 0, 0.3));\n",
              "      fill: #FFFFFF;\n",
              "    }\n",
              "  </style>\n",
              "\n",
              "    <script>\n",
              "      const buttonEl =\n",
              "        document.querySelector('#df-c2eebbf9-3bdb-40d5-a14c-37576b610547 button.colab-df-convert');\n",
              "      buttonEl.style.display =\n",
              "        google.colab.kernel.accessAllowed ? 'block' : 'none';\n",
              "\n",
              "      async function convertToInteractive(key) {\n",
              "        const element = document.querySelector('#df-c2eebbf9-3bdb-40d5-a14c-37576b610547');\n",
              "        const dataTable =\n",
              "          await google.colab.kernel.invokeFunction('convertToInteractive',\n",
              "                                                    [key], {});\n",
              "        if (!dataTable) return;\n",
              "\n",
              "        const docLinkHtml = 'Like what you see? Visit the ' +\n",
              "          '<a target=\"_blank\" href=https://colab.research.google.com/notebooks/data_table.ipynb>data table notebook</a>'\n",
              "          + ' to learn more about interactive tables.';\n",
              "        element.innerHTML = '';\n",
              "        dataTable['output_type'] = 'display_data';\n",
              "        await google.colab.output.renderOutput(dataTable, element);\n",
              "        const docLink = document.createElement('div');\n",
              "        docLink.innerHTML = docLinkHtml;\n",
              "        element.appendChild(docLink);\n",
              "      }\n",
              "    </script>\n",
              "  </div>\n",
              "\n",
              "\n",
              "<div id=\"df-f1d69cb1-5044-4022-8197-f32441d02c2f\">\n",
              "  <button class=\"colab-df-quickchart\" onclick=\"quickchart('df-f1d69cb1-5044-4022-8197-f32441d02c2f')\"\n",
              "            title=\"Suggest charts\"\n",
              "            style=\"display:none;\">\n",
              "\n",
              "<svg xmlns=\"http://www.w3.org/2000/svg\" height=\"24px\"viewBox=\"0 0 24 24\"\n",
              "     width=\"24px\">\n",
              "    <g>\n",
              "        <path d=\"M19 3H5c-1.1 0-2 .9-2 2v14c0 1.1.9 2 2 2h14c1.1 0 2-.9 2-2V5c0-1.1-.9-2-2-2zM9 17H7v-7h2v7zm4 0h-2V7h2v10zm4 0h-2v-4h2v4z\"/>\n",
              "    </g>\n",
              "</svg>\n",
              "  </button>\n",
              "\n",
              "<style>\n",
              "  .colab-df-quickchart {\n",
              "      --bg-color: #E8F0FE;\n",
              "      --fill-color: #1967D2;\n",
              "      --hover-bg-color: #E2EBFA;\n",
              "      --hover-fill-color: #174EA6;\n",
              "      --disabled-fill-color: #AAA;\n",
              "      --disabled-bg-color: #DDD;\n",
              "  }\n",
              "\n",
              "  [theme=dark] .colab-df-quickchart {\n",
              "      --bg-color: #3B4455;\n",
              "      --fill-color: #D2E3FC;\n",
              "      --hover-bg-color: #434B5C;\n",
              "      --hover-fill-color: #FFFFFF;\n",
              "      --disabled-bg-color: #3B4455;\n",
              "      --disabled-fill-color: #666;\n",
              "  }\n",
              "\n",
              "  .colab-df-quickchart {\n",
              "    background-color: var(--bg-color);\n",
              "    border: none;\n",
              "    border-radius: 50%;\n",
              "    cursor: pointer;\n",
              "    display: none;\n",
              "    fill: var(--fill-color);\n",
              "    height: 32px;\n",
              "    padding: 0;\n",
              "    width: 32px;\n",
              "  }\n",
              "\n",
              "  .colab-df-quickchart:hover {\n",
              "    background-color: var(--hover-bg-color);\n",
              "    box-shadow: 0 1px 2px rgba(60, 64, 67, 0.3), 0 1px 3px 1px rgba(60, 64, 67, 0.15);\n",
              "    fill: var(--button-hover-fill-color);\n",
              "  }\n",
              "\n",
              "  .colab-df-quickchart-complete:disabled,\n",
              "  .colab-df-quickchart-complete:disabled:hover {\n",
              "    background-color: var(--disabled-bg-color);\n",
              "    fill: var(--disabled-fill-color);\n",
              "    box-shadow: none;\n",
              "  }\n",
              "\n",
              "  .colab-df-spinner {\n",
              "    border: 2px solid var(--fill-color);\n",
              "    border-color: transparent;\n",
              "    border-bottom-color: var(--fill-color);\n",
              "    animation:\n",
              "      spin 1s steps(1) infinite;\n",
              "  }\n",
              "\n",
              "  @keyframes spin {\n",
              "    0% {\n",
              "      border-color: transparent;\n",
              "      border-bottom-color: var(--fill-color);\n",
              "      border-left-color: var(--fill-color);\n",
              "    }\n",
              "    20% {\n",
              "      border-color: transparent;\n",
              "      border-left-color: var(--fill-color);\n",
              "      border-top-color: var(--fill-color);\n",
              "    }\n",
              "    30% {\n",
              "      border-color: transparent;\n",
              "      border-left-color: var(--fill-color);\n",
              "      border-top-color: var(--fill-color);\n",
              "      border-right-color: var(--fill-color);\n",
              "    }\n",
              "    40% {\n",
              "      border-color: transparent;\n",
              "      border-right-color: var(--fill-color);\n",
              "      border-top-color: var(--fill-color);\n",
              "    }\n",
              "    60% {\n",
              "      border-color: transparent;\n",
              "      border-right-color: var(--fill-color);\n",
              "    }\n",
              "    80% {\n",
              "      border-color: transparent;\n",
              "      border-right-color: var(--fill-color);\n",
              "      border-bottom-color: var(--fill-color);\n",
              "    }\n",
              "    90% {\n",
              "      border-color: transparent;\n",
              "      border-bottom-color: var(--fill-color);\n",
              "    }\n",
              "  }\n",
              "</style>\n",
              "\n",
              "  <script>\n",
              "    async function quickchart(key) {\n",
              "      const quickchartButtonEl =\n",
              "        document.querySelector('#' + key + ' button');\n",
              "      quickchartButtonEl.disabled = true;  // To prevent multiple clicks.\n",
              "      quickchartButtonEl.classList.add('colab-df-spinner');\n",
              "      try {\n",
              "        const charts = await google.colab.kernel.invokeFunction(\n",
              "            'suggestCharts', [key], {});\n",
              "      } catch (error) {\n",
              "        console.error('Error during call to suggestCharts:', error);\n",
              "      }\n",
              "      quickchartButtonEl.classList.remove('colab-df-spinner');\n",
              "      quickchartButtonEl.classList.add('colab-df-quickchart-complete');\n",
              "    }\n",
              "    (() => {\n",
              "      let quickchartButtonEl =\n",
              "        document.querySelector('#df-f1d69cb1-5044-4022-8197-f32441d02c2f button');\n",
              "      quickchartButtonEl.style.display =\n",
              "        google.colab.kernel.accessAllowed ? 'block' : 'none';\n",
              "    })();\n",
              "  </script>\n",
              "</div>\n",
              "    </div>\n",
              "  </div>\n"
            ]
          },
          "metadata": {},
          "execution_count": 89
        }
      ]
    },
    {
      "cell_type": "markdown",
      "source": [
        "###EXPLORANDO OS DADOS"
      ],
      "metadata": {
        "id": "uO1xd6Mlec_D"
      }
    },
    {
      "cell_type": "code",
      "source": [
        "# Verificando o tipo dos dados após conversão\n",
        "df_tratado.dtypes"
      ],
      "metadata": {
        "colab": {
          "base_uri": "https://localhost:8080/"
        },
        "id": "P0TvitlTa0of",
        "outputId": "86ba2180-b672-4bb3-9549-28822362de4f"
      },
      "execution_count": 79,
      "outputs": [
        {
          "output_type": "execute_result",
          "data": {
            "text/plain": [
              "data             object\n",
              "condicao         object\n",
              "condicao_desc    object\n",
              "min               int64\n",
              "max               int64\n",
              "indice_uv         int64\n",
              "cidade           object\n",
              "estado           object\n",
              "atualizado_em    object\n",
              "dtype: object"
            ]
          },
          "metadata": {},
          "execution_count": 79
        }
      ]
    },
    {
      "cell_type": "code",
      "source": [
        "# Explorando dados categoricos\n",
        "agrupado = df_tratado.groupby(['condicao_desc']).size()\n",
        "agrupado"
      ],
      "metadata": {
        "colab": {
          "base_uri": "https://localhost:8080/"
        },
        "id": "9bKY4u9mahYX",
        "outputId": "960defe5-2198-40d9-b4cc-add7bfe7a2b1"
      },
      "execution_count": 90,
      "outputs": [
        {
          "output_type": "execute_result",
          "data": {
            "text/plain": [
              "condicao_desc\n",
              "Chuva                   1\n",
              "Parcialmente Nublado    1\n",
              "dtype: int64"
            ]
          },
          "metadata": {},
          "execution_count": 90
        }
      ]
    },
    {
      "cell_type": "code",
      "source": [
        "agrupado.plot.bar(color = 'gray')"
      ],
      "metadata": {
        "id": "LxNj5iWubYRg",
        "colab": {
          "base_uri": "https://localhost:8080/",
          "height": 605
        },
        "outputId": "86efe62d-da9f-4b9a-885a-07d5ff9c0975"
      },
      "execution_count": 91,
      "outputs": [
        {
          "output_type": "execute_result",
          "data": {
            "text/plain": [
              "<Axes: xlabel='condicao_desc'>"
            ]
          },
          "metadata": {},
          "execution_count": 91
        },
        {
          "output_type": "display_data",
          "data": {
            "text/plain": [
              "<Figure size 640x480 with 1 Axes>"
            ],
            "image/png": "[encoded data removed]"
          },
          "metadata": {}
        }
      ]
    },
    {
      "cell_type": "code",
      "source": [
        "# explorando colunas numéricas\n",
        "#temperatura min\n",
        "df_tratado['min'].describe()"
      ],
      "metadata": {
        "id": "VtLwi-wPb1fD",
        "colab": {
          "base_uri": "https://localhost:8080/"
        },
        "outputId": "01e8ad2f-2c06-4af1-db83-27489df36a10"
      },
      "execution_count": 92,
      "outputs": [
        {
          "output_type": "execute_result",
          "data": {
            "text/plain": [
              "count     2.0\n",
              "mean     23.0\n",
              "std       0.0\n",
              "min      23.0\n",
              "25%      23.0\n",
              "50%      23.0\n",
              "75%      23.0\n",
              "max      23.0\n",
              "Name: min, dtype: float64"
            ]
          },
          "metadata": {},
          "execution_count": 92
        }
      ]
    },
    {
      "cell_type": "code",
      "source": [
        "# explorando colunas numéricas\n",
        "#temperatura max\n",
        "df_tratado['max'].describe()"
      ],
      "metadata": {
        "id": "hxR2udLOb_mT",
        "colab": {
          "base_uri": "https://localhost:8080/"
        },
        "outputId": "e405a4b4-b77a-476d-c1a0-6df0259d5d68"
      },
      "execution_count": 93,
      "outputs": [
        {
          "output_type": "execute_result",
          "data": {
            "text/plain": [
              "count     2.0\n",
              "mean     28.0\n",
              "std       0.0\n",
              "min      28.0\n",
              "25%      28.0\n",
              "50%      28.0\n",
              "75%      28.0\n",
              "max      28.0\n",
              "Name: max, dtype: float64"
            ]
          },
          "metadata": {},
          "execution_count": 93
        }
      ]
    }
  ]
}